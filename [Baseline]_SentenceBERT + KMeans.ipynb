{
 "cells": [
  {
   "cell_type": "markdown",
   "metadata": {},
   "source": [
    "## Import"
   ]
  },
  {
   "cell_type": "code",
   "execution_count": 1,
   "metadata": {},
   "outputs": [],
   "source": [
    "import re\n",
    "import pandas as pd\n",
    "import numpy as np\n",
    "import random\n",
    "from sentence_transformers import SentenceTransformer\n",
    "from sklearn.cluster import KMeans"
   ]
  },
  {
   "cell_type": "markdown",
   "metadata": {},
   "source": [
    "## Random Seed"
   ]
  },
  {
   "cell_type": "code",
   "execution_count": 2,
   "metadata": {},
   "outputs": [],
   "source": [
    "SEED = 0\n",
    "\n",
    "np.random.seed(SEED)\n",
    "random.seed(SEED)"
   ]
  },
  {
   "cell_type": "markdown",
   "metadata": {},
   "source": [
    "## Load Data"
   ]
  },
  {
   "cell_type": "code",
   "execution_count": 4,
   "metadata": {},
   "outputs": [
    {
     "data": {
      "text/html": [
       "<div>\n",
       "<style scoped>\n",
       "    .dataframe tbody tr th:only-of-type {\n",
       "        vertical-align: middle;\n",
       "    }\n",
       "\n",
       "    .dataframe tbody tr th {\n",
       "        vertical-align: top;\n",
       "    }\n",
       "\n",
       "    .dataframe thead th {\n",
       "        text-align: right;\n",
       "    }\n",
       "</style>\n",
       "<table border=\"1\" class=\"dataframe\">\n",
       "  <thead>\n",
       "    <tr style=\"text-align: right;\">\n",
       "      <th></th>\n",
       "      <th>id</th>\n",
       "      <th>title</th>\n",
       "      <th>contents</th>\n",
       "    </tr>\n",
       "  </thead>\n",
       "  <tbody>\n",
       "    <tr>\n",
       "      <th>0</th>\n",
       "      <td>NEWS_00000</td>\n",
       "      <td>Spanish coach facing action in race row</td>\n",
       "      <td>MADRID (AFP) - Spanish national team coach Lui...</td>\n",
       "    </tr>\n",
       "    <tr>\n",
       "      <th>1</th>\n",
       "      <td>NEWS_00001</td>\n",
       "      <td>Bruce Lee statue for divided city</td>\n",
       "      <td>In Bosnia, where one man #39;s hero is often a...</td>\n",
       "    </tr>\n",
       "    <tr>\n",
       "      <th>2</th>\n",
       "      <td>NEWS_00002</td>\n",
       "      <td>Only Lovers Left Alive's Tilda Swinton Talks A...</td>\n",
       "      <td>Yasmine Hamdan performs 'Hal' which she also s...</td>\n",
       "    </tr>\n",
       "    <tr>\n",
       "      <th>3</th>\n",
       "      <td>NEWS_00003</td>\n",
       "      <td>Macromedia contributes to eBay Stores</td>\n",
       "      <td>Macromedia has announced a special version of ...</td>\n",
       "    </tr>\n",
       "    <tr>\n",
       "      <th>4</th>\n",
       "      <td>NEWS_00004</td>\n",
       "      <td>Qualcomm plans to phone it in on cellular repairs</td>\n",
       "      <td>Over-the-air fixes for cell phones comes to Qu...</td>\n",
       "    </tr>\n",
       "  </tbody>\n",
       "</table>\n",
       "</div>"
      ],
      "text/plain": [
       "           id                                              title  \\\n",
       "0  NEWS_00000            Spanish coach facing action in race row   \n",
       "1  NEWS_00001                  Bruce Lee statue for divided city   \n",
       "2  NEWS_00002  Only Lovers Left Alive's Tilda Swinton Talks A...   \n",
       "3  NEWS_00003              Macromedia contributes to eBay Stores   \n",
       "4  NEWS_00004  Qualcomm plans to phone it in on cellular repairs   \n",
       "\n",
       "                                            contents  \n",
       "0  MADRID (AFP) - Spanish national team coach Lui...  \n",
       "1  In Bosnia, where one man #39;s hero is often a...  \n",
       "2  Yasmine Hamdan performs 'Hal' which she also s...  \n",
       "3  Macromedia has announced a special version of ...  \n",
       "4  Over-the-air fixes for cell phones comes to Qu...  "
      ]
     },
     "execution_count": 4,
     "metadata": {},
     "output_type": "execute_result"
    }
   ],
   "source": [
    "df = pd.read_csv('./data/news.csv')\n",
    "df.head()"
   ]
  },
  {
   "cell_type": "code",
   "execution_count": 5,
   "metadata": {},
   "outputs": [
    {
     "data": {
      "text/html": [
       "<div>\n",
       "<style scoped>\n",
       "    .dataframe tbody tr th:only-of-type {\n",
       "        vertical-align: middle;\n",
       "    }\n",
       "\n",
       "    .dataframe tbody tr th {\n",
       "        vertical-align: top;\n",
       "    }\n",
       "\n",
       "    .dataframe thead th {\n",
       "        text-align: right;\n",
       "    }\n",
       "</style>\n",
       "<table border=\"1\" class=\"dataframe\">\n",
       "  <thead>\n",
       "    <tr style=\"text-align: right;\">\n",
       "      <th></th>\n",
       "      <th>id</th>\n",
       "      <th>title</th>\n",
       "      <th>contents</th>\n",
       "      <th>text</th>\n",
       "    </tr>\n",
       "  </thead>\n",
       "  <tbody>\n",
       "    <tr>\n",
       "      <th>0</th>\n",
       "      <td>NEWS_00000</td>\n",
       "      <td>Spanish coach facing action in race row</td>\n",
       "      <td>MADRID (AFP) - Spanish national team coach Lui...</td>\n",
       "      <td>Spanish coach facing action in race row : MADR...</td>\n",
       "    </tr>\n",
       "    <tr>\n",
       "      <th>1</th>\n",
       "      <td>NEWS_00001</td>\n",
       "      <td>Bruce Lee statue for divided city</td>\n",
       "      <td>In Bosnia, where one man #39;s hero is often a...</td>\n",
       "      <td>Bruce Lee statue for divided city : In Bosnia,...</td>\n",
       "    </tr>\n",
       "    <tr>\n",
       "      <th>2</th>\n",
       "      <td>NEWS_00002</td>\n",
       "      <td>Only Lovers Left Alive's Tilda Swinton Talks A...</td>\n",
       "      <td>Yasmine Hamdan performs 'Hal' which she also s...</td>\n",
       "      <td>Only Lovers Left Alive's Tilda Swinton Talks A...</td>\n",
       "    </tr>\n",
       "    <tr>\n",
       "      <th>3</th>\n",
       "      <td>NEWS_00003</td>\n",
       "      <td>Macromedia contributes to eBay Stores</td>\n",
       "      <td>Macromedia has announced a special version of ...</td>\n",
       "      <td>Macromedia contributes to eBay Stores : Macrom...</td>\n",
       "    </tr>\n",
       "    <tr>\n",
       "      <th>4</th>\n",
       "      <td>NEWS_00004</td>\n",
       "      <td>Qualcomm plans to phone it in on cellular repairs</td>\n",
       "      <td>Over-the-air fixes for cell phones comes to Qu...</td>\n",
       "      <td>Qualcomm plans to phone it in on cellular repa...</td>\n",
       "    </tr>\n",
       "  </tbody>\n",
       "</table>\n",
       "</div>"
      ],
      "text/plain": [
       "           id                                              title  \\\n",
       "0  NEWS_00000            Spanish coach facing action in race row   \n",
       "1  NEWS_00001                  Bruce Lee statue for divided city   \n",
       "2  NEWS_00002  Only Lovers Left Alive's Tilda Swinton Talks A...   \n",
       "3  NEWS_00003              Macromedia contributes to eBay Stores   \n",
       "4  NEWS_00004  Qualcomm plans to phone it in on cellular repairs   \n",
       "\n",
       "                                            contents  \\\n",
       "0  MADRID (AFP) - Spanish national team coach Lui...   \n",
       "1  In Bosnia, where one man #39;s hero is often a...   \n",
       "2  Yasmine Hamdan performs 'Hal' which she also s...   \n",
       "3  Macromedia has announced a special version of ...   \n",
       "4  Over-the-air fixes for cell phones comes to Qu...   \n",
       "\n",
       "                                                text  \n",
       "0  Spanish coach facing action in race row : MADR...  \n",
       "1  Bruce Lee statue for divided city : In Bosnia,...  \n",
       "2  Only Lovers Left Alive's Tilda Swinton Talks A...  \n",
       "3  Macromedia contributes to eBay Stores : Macrom...  \n",
       "4  Qualcomm plans to phone it in on cellular repa...  "
      ]
     },
     "execution_count": 5,
     "metadata": {},
     "output_type": "execute_result"
    }
   ],
   "source": [
    "# 제목 + 내용\n",
    "df['text'] = df['title'] + ' : ' + df['contents']\n",
    "df.head()"
   ]
  },
  {
   "cell_type": "markdown",
   "metadata": {},
   "source": [
    "## Pre-processing"
   ]
  },
  {
   "cell_type": "code",
   "execution_count": 6,
   "metadata": {},
   "outputs": [],
   "source": [
    "def preprocess_text(text):\n",
    "    # URL 제거\n",
    "    text = re.sub(r'http\\S+|www\\S+|https\\S+', '', text, flags=re.MULTILINE)\n",
    "    \n",
    "    # 해시태그 제거\n",
    "    text = re.sub(r'#\\w+', '', text)\n",
    "    \n",
    "    # 멘션 제거\n",
    "    text = re.sub(r'@\\w+', '', text)\n",
    "    \n",
    "    # 이모지 제거\n",
    "    text = text.encode('ascii', 'ignore').decode('ascii')\n",
    "    \n",
    "    # 공백 및 특수문자 제거\n",
    "    text = re.sub(r'\\s+', ' ', text).strip()\n",
    "    \n",
    "    # 숫자 제거\n",
    "    text = re.sub(r'\\d+', '', text)\n",
    "    \n",
    "    return text.lower()"
   ]
  },
  {
   "cell_type": "code",
   "execution_count": 7,
   "metadata": {},
   "outputs": [],
   "source": [
    "df['processed_text'] = df['text'].apply(preprocess_text)"
   ]
  },
  {
   "cell_type": "markdown",
   "metadata": {},
   "source": [
    "## Feature Extraction"
   ]
  },
  {
   "cell_type": "code",
   "execution_count": 8,
   "metadata": {},
   "outputs": [
    {
     "data": {
      "application/vnd.jupyter.widget-view+json": {
       "model_id": "e2ebc08726734b52a24dc360ea333bf6",
       "version_major": 2,
       "version_minor": 0
      },
      "text/plain": [
       "Downloading (…)7f4ef/.gitattributes:   0%|          | 0.00/391 [00:00<?, ?B/s]"
      ]
     },
     "metadata": {},
     "output_type": "display_data"
    },
    {
     "data": {
      "application/vnd.jupyter.widget-view+json": {
       "model_id": "f87a25d994004cc0a7ee013403df9ad1",
       "version_major": 2,
       "version_minor": 0
      },
      "text/plain": [
       "Downloading (…)_Pooling/config.json:   0%|          | 0.00/190 [00:00<?, ?B/s]"
      ]
     },
     "metadata": {},
     "output_type": "display_data"
    },
    {
     "data": {
      "application/vnd.jupyter.widget-view+json": {
       "model_id": "ed38daafa45a4032b61f57b15972e201",
       "version_major": 2,
       "version_minor": 0
      },
      "text/plain": [
       "Downloading (…)f279f7f4ef/README.md:   0%|          | 0.00/3.74k [00:00<?, ?B/s]"
      ]
     },
     "metadata": {},
     "output_type": "display_data"
    },
    {
     "data": {
      "application/vnd.jupyter.widget-view+json": {
       "model_id": "2ed44b40feca430c92ea52eb30e8ac89",
       "version_major": 2,
       "version_minor": 0
      },
      "text/plain": [
       "Downloading (…)79f7f4ef/config.json:   0%|          | 0.00/718 [00:00<?, ?B/s]"
      ]
     },
     "metadata": {},
     "output_type": "display_data"
    },
    {
     "data": {
      "application/vnd.jupyter.widget-view+json": {
       "model_id": "4978852c800b4c179eee8d1c54cbc0cc",
       "version_major": 2,
       "version_minor": 0
      },
      "text/plain": [
       "Downloading (…)ce_transformers.json:   0%|          | 0.00/122 [00:00<?, ?B/s]"
      ]
     },
     "metadata": {},
     "output_type": "display_data"
    },
    {
     "data": {
      "application/vnd.jupyter.widget-view+json": {
       "model_id": "452a8e38fd0447c5ac23f16cf345a67d",
       "version_major": 2,
       "version_minor": 0
      },
      "text/plain": [
       "Downloading (…)279f7f4ef/merges.txt:   0%|          | 0.00/456k [00:00<?, ?B/s]"
      ]
     },
     "metadata": {},
     "output_type": "display_data"
    },
    {
     "data": {
      "application/vnd.jupyter.widget-view+json": {
       "model_id": "d552c13ab962477ca4ce224d695b46c3",
       "version_major": 2,
       "version_minor": 0
      },
      "text/plain": [
       "Downloading pytorch_model.bin:   0%|          | 0.00/329M [00:00<?, ?B/s]"
      ]
     },
     "metadata": {},
     "output_type": "display_data"
    },
    {
     "data": {
      "application/vnd.jupyter.widget-view+json": {
       "model_id": "2d09f32aec9c4297bc70852f68f2cb96",
       "version_major": 2,
       "version_minor": 0
      },
      "text/plain": [
       "Downloading (…)nce_bert_config.json:   0%|          | 0.00/53.0 [00:00<?, ?B/s]"
      ]
     },
     "metadata": {},
     "output_type": "display_data"
    },
    {
     "data": {
      "application/vnd.jupyter.widget-view+json": {
       "model_id": "1290c64b0dcf4aa6ae223d5992b0a23a",
       "version_major": 2,
       "version_minor": 0
      },
      "text/plain": [
       "Downloading (…)cial_tokens_map.json:   0%|          | 0.00/239 [00:00<?, ?B/s]"
      ]
     },
     "metadata": {},
     "output_type": "display_data"
    },
    {
     "data": {
      "application/vnd.jupyter.widget-view+json": {
       "model_id": "a12517afbcd544f0aff856f65b552414",
       "version_major": 2,
       "version_minor": 0
      },
      "text/plain": [
       "Downloading (…)7f4ef/tokenizer.json:   0%|          | 0.00/1.36M [00:00<?, ?B/s]"
      ]
     },
     "metadata": {},
     "output_type": "display_data"
    },
    {
     "data": {
      "application/vnd.jupyter.widget-view+json": {
       "model_id": "edde01315eb44311b30808a8342119e0",
       "version_major": 2,
       "version_minor": 0
      },
      "text/plain": [
       "Downloading (…)okenizer_config.json:   0%|          | 0.00/1.35k [00:00<?, ?B/s]"
      ]
     },
     "metadata": {},
     "output_type": "display_data"
    },
    {
     "data": {
      "application/vnd.jupyter.widget-view+json": {
       "model_id": "5002712806fe4be9b41be722f8d2e3f7",
       "version_major": 2,
       "version_minor": 0
      },
      "text/plain": [
       "Downloading (…)279f7f4ef/vocab.json:   0%|          | 0.00/798k [00:00<?, ?B/s]"
      ]
     },
     "metadata": {},
     "output_type": "display_data"
    },
    {
     "data": {
      "application/vnd.jupyter.widget-view+json": {
       "model_id": "55c869f8f6b447169ebc43aeb0e8125a",
       "version_major": 2,
       "version_minor": 0
      },
      "text/plain": [
       "Downloading (…)9f7f4ef/modules.json:   0%|          | 0.00/229 [00:00<?, ?B/s]"
      ]
     },
     "metadata": {},
     "output_type": "display_data"
    }
   ],
   "source": [
    "# Sentence BERT 모델 로드\n",
    "model = SentenceTransformer('paraphrase-distilroberta-base-v1')\n",
    "\n",
    "# 텍스트 feature 추출\n",
    "sentence_embeddings = model.encode(df['text'].tolist())\n",
    "\n",
    "# 추출한 feature를 데이터프레임에 저장\n",
    "df_embeddings = pd.DataFrame(sentence_embeddings)"
   ]
  },
  {
   "cell_type": "markdown",
   "metadata": {},
   "source": [
    "## Clustering"
   ]
  },
  {
   "cell_type": "code",
   "execution_count": 9,
   "metadata": {},
   "outputs": [
    {
     "name": "stderr",
     "output_type": "stream",
     "text": [
      "/Users/syshin/miniforge3/envs/pytorch/lib/python3.10/site-packages/sklearn/cluster/_kmeans.py:1416: FutureWarning: The default value of `n_init` will change from 10 to 'auto' in 1.4. Set the value of `n_init` explicitly to suppress the warning\n",
      "  super()._check_params_vs_input(X, default_n_init=10)\n"
     ]
    },
    {
     "name": "stdout",
     "output_type": "stream",
     "text": [
      "huggingface/tokenizers: The current process just got forked, after parallelism has already been used. Disabling parallelism to avoid deadlocks...\n",
      "To disable this warning, you can either:\n",
      "\t- Avoid using `tokenizers` before the fork if possible\n",
      "\t- Explicitly set the environment variable TOKENIZERS_PARALLELISM=(true | false)\n"
     ]
    }
   ],
   "source": [
    "# Sentence BERT 임베딩을 사용하여 군집화 수행\n",
    "kmeans = KMeans(n_clusters=6, random_state=SEED)\n",
    "\n",
    "df['kmeans_cluster'] = kmeans.fit_predict(sentence_embeddings)"
   ]
  },
  {
   "cell_type": "markdown",
   "metadata": {},
   "source": [
    "## Post-processing"
   ]
  },
  {
   "cell_type": "markdown",
   "metadata": {},
   "source": [
    "### Entertainment: 0 -> 1"
   ]
  },
  {
   "cell_type": "code",
   "execution_count": 10,
   "metadata": {},
   "outputs": [
    {
     "data": {
      "text/plain": [
       "18    A Fair Way to Choose Candidates for Republican...\n",
       "25    Be on TOP : //www.huffingtonpost.com/entry/be-...\n",
       "33    Memo To EPA Chief Pruitt : //www.huffingtonpos...\n",
       "Name: text, dtype: object"
      ]
     },
     "execution_count": 10,
     "metadata": {},
     "output_type": "execute_result"
    }
   ],
   "source": [
    "df[df['kmeans_cluster'] == 0]['text'].head(3)"
   ]
  },
  {
   "cell_type": "code",
   "execution_count": 28,
   "metadata": {},
   "outputs": [
    {
     "name": "stdout",
     "output_type": "stream",
     "text": [
      "A Fair Way to Choose Candidates for Republican Debate : //www.huffingtonpost.com/entry/a-fair-way-to-choose-cand_b_7922194.html short_description\n",
      "Be on TOP : //www.huffingtonpost.com/entry/be-on-top-amazon-best-sel_b_12508618.html short_description\n",
      "Memo To EPA Chief Pruitt : //www.huffingtonpost.com/entry/memo-to-epa-chief-pruitt-lets-end-subsidies-for-fossil_us_59ee9567e4b0b8a51417bcc6 short_description\n"
     ]
    }
   ],
   "source": [
    "print(df['text'][18])\n",
    "print(df['text'][25])\n",
    "print(df['text'][33])"
   ]
  },
  {
   "cell_type": "markdown",
   "metadata": {},
   "source": [
    "### Sports: 1 -> 3"
   ]
  },
  {
   "cell_type": "code",
   "execution_count": 12,
   "metadata": {},
   "outputs": [
    {
     "data": {
      "text/plain": [
       "0     Spanish coach facing action in race row : MADR...\n",
       "13    GAME DAY PREVIEW Game time: 6:00 PM : CHARLOTT...\n",
       "22    College Basketball: Georgia Tech, UConn Win : ...\n",
       "Name: text, dtype: object"
      ]
     },
     "execution_count": 12,
     "metadata": {},
     "output_type": "execute_result"
    }
   ],
   "source": [
    "df[df['kmeans_cluster'] == 1]['text'].head(3)"
   ]
  },
  {
   "cell_type": "code",
   "execution_count": 13,
   "metadata": {},
   "outputs": [
    {
     "name": "stdout",
     "output_type": "stream",
     "text": [
      "Spanish coach facing action in race row : MADRID (AFP) - Spanish national team coach Luis Aragones faces a formal investigation after Spain #39;s Football Federation decided to open disciplinary proceedings over racist comments about Thierry Henry of France and Arsenal.\n",
      "GAME DAY PREVIEW Game time: 6:00 PM : CHARLOTTE, North Carolina (Ticker) -- The Detroit Shock face a critical road test Saturday when they take on the Charlotte Sting at Charlotte Coliseum.\n",
      "College Basketball: Georgia Tech, UConn Win : ATLANTA (Sports Network) - BJ Elder poured in a game-high 27 points to lead fourth-ranked Georgia Tech to a convincing 99-68 win over Michigan in the ACC-Big Ten Challenge at Alexander Memorial Coliseum.\n"
     ]
    }
   ],
   "source": [
    "print(df['text'][0])\n",
    "print(df['text'][13])\n",
    "print(df['text'][22])"
   ]
  },
  {
   "cell_type": "markdown",
   "metadata": {},
   "source": [
    "### Politics: 2 -> 2"
   ]
  },
  {
   "cell_type": "code",
   "execution_count": 14,
   "metadata": {},
   "outputs": [
    {
     "data": {
      "text/plain": [
       "11    Kerry rolls out tax-cut plan for middle class ...\n",
       "20    Deere's Color Is Green : With big tractors, bi...\n",
       "50    UN Predicts Boom In Robot Labor : The use of r...\n",
       "Name: text, dtype: object"
      ]
     },
     "execution_count": 14,
     "metadata": {},
     "output_type": "execute_result"
    }
   ],
   "source": [
    "df[df['kmeans_cluster'] == 2]['text'].head(3)"
   ]
  },
  {
   "cell_type": "code",
   "execution_count": 15,
   "metadata": {},
   "outputs": [
    {
     "name": "stdout",
     "output_type": "stream",
     "text": [
      "Only Lovers Left Alive's Tilda Swinton Talks About Almost Quitting Acting and Yasmine Hamdan Performs 'Hal' Live In NYC   (HuffPo Exclusive Videos) authors : Yasmine Hamdan performs 'Hal' which she also sings in the film during a scene when two world-weary vampires begin to heal and find a way to continue living as they remember the power and mystery of creation itself.\n",
      "Time to Talk Baseball : It's time to talk about the serious risks and potential benefits of building an expensive ballpark in Washington.\n",
      "Bump Stock Maker Resumes Sales One Month After Las Vegas Mass Shooting authors : Move along nothing to see here.\n"
     ]
    }
   ],
   "source": [
    "print(df['text'][2])\n",
    "print(df['text'][6])\n",
    "print(df['text'][7])"
   ]
  },
  {
   "cell_type": "markdown",
   "metadata": {},
   "source": [
    "### Business: 3 -> 0"
   ]
  },
  {
   "cell_type": "code",
   "execution_count": 16,
   "metadata": {},
   "outputs": [
    {
     "data": {
      "text/plain": [
       "1     Bruce Lee statue for divided city : In Bosnia,...\n",
       "10    Harry #39;s argy-bargy : PRINCE Charles has as...\n",
       "16    Fischer's Fiancee: Marriage Plans Genuine (AP)...\n",
       "Name: text, dtype: object"
      ]
     },
     "execution_count": 16,
     "metadata": {},
     "output_type": "execute_result"
    }
   ],
   "source": [
    "df[df['kmeans_cluster'] == 3]['text'].head(3)"
   ]
  },
  {
   "cell_type": "code",
   "execution_count": 17,
   "metadata": {},
   "outputs": [
    {
     "name": "stdout",
     "output_type": "stream",
     "text": [
      "Kerry rolls out tax-cut plan for middle class : After two weeks of focusing on Iraq, Democratic presidential challenger John Kerry turned his emphasis to the economy Saturday, delivering what he called a plan for  quot;middle-class families.\n",
      "Deere's Color Is Green : With big tractors, big sales, and big earnings, Deere's hoeing a profitable row.\n",
      "UN Predicts Boom In Robot Labor : The use of robots around the home to mow lawns, vacuum floors and manage other chores is set to surge sevenfold by 2007 as more consumers snap up smart machines, the United Nations said.\n"
     ]
    }
   ],
   "source": [
    "print(df['text'][11])\n",
    "print(df['text'][20])\n",
    "print(df['text'][50])"
   ]
  },
  {
   "cell_type": "markdown",
   "metadata": {},
   "source": [
    "### Tech: 4 -> 4"
   ]
  },
  {
   "cell_type": "code",
   "execution_count": 18,
   "metadata": {},
   "outputs": [
    {
     "data": {
      "text/plain": [
       "2    Only Lovers Left Alive's Tilda Swinton Talks A...\n",
       "6    Time to Talk Baseball : It's time to talk abou...\n",
       "7    Bump Stock Maker Resumes Sales One Month After...\n",
       "Name: text, dtype: object"
      ]
     },
     "execution_count": 18,
     "metadata": {},
     "output_type": "execute_result"
    }
   ],
   "source": [
    "df[df['kmeans_cluster'] == 4]['text'].head(3)"
   ]
  },
  {
   "cell_type": "code",
   "execution_count": 19,
   "metadata": {},
   "outputs": [
    {
     "name": "stdout",
     "output_type": "stream",
     "text": [
      "Macromedia contributes to eBay Stores : Macromedia has announced a special version of its Contribute website editing application designed to simplify the creation and customisation of eBay Stores.\n",
      "Qualcomm plans to phone it in on cellular repairs : Over-the-air fixes for cell phones comes to Qualcomm's CDMA.\n",
      "Thomson to Back Both Blu-ray and HD-DVD : Company, one of the core backers of Blu-ray, will also support its rival format.\n"
     ]
    }
   ],
   "source": [
    "print(df['text'][3])\n",
    "print(df['text'][4])\n",
    "print(df['text'][5])"
   ]
  },
  {
   "cell_type": "markdown",
   "metadata": {},
   "source": [
    "### World: 5 -> 5"
   ]
  },
  {
   "cell_type": "code",
   "execution_count": 20,
   "metadata": {},
   "outputs": [
    {
     "data": {
      "text/plain": [
       "3    Macromedia contributes to eBay Stores : Macrom...\n",
       "4    Qualcomm plans to phone it in on cellular repa...\n",
       "5    Thomson to Back Both Blu-ray and HD-DVD : Comp...\n",
       "Name: text, dtype: object"
      ]
     },
     "execution_count": 20,
     "metadata": {},
     "output_type": "execute_result"
    }
   ],
   "source": [
    "df[df['kmeans_cluster'] == 5]['text'].head(3)"
   ]
  },
  {
   "cell_type": "code",
   "execution_count": 21,
   "metadata": {},
   "outputs": [
    {
     "name": "stdout",
     "output_type": "stream",
     "text": [
      "A Fair Way to Choose Candidates for Republican Debate : //www.huffingtonpost.com/entry/a-fair-way-to-choose-cand_b_7922194.html short_description\n",
      "Be on TOP : //www.huffingtonpost.com/entry/be-on-top-amazon-best-sel_b_12508618.html short_description\n",
      "Memo To EPA Chief Pruitt : //www.huffingtonpost.com/entry/memo-to-epa-chief-pruitt-lets-end-subsidies-for-fossil_us_59ee9567e4b0b8a51417bcc6 short_description\n"
     ]
    }
   ],
   "source": [
    "print(df['text'][18])\n",
    "print(df['text'][25])\n",
    "print(df['text'][33])"
   ]
  },
  {
   "cell_type": "code",
   "execution_count": 30,
   "metadata": {},
   "outputs": [
    {
     "name": "stdout",
     "output_type": "stream",
     "text": [
      "Cluster 0:\n",
      "A Fair Way to Choose Candidates for Republican Debate : //www.huffingtonpost.com/entry/a-fair-way-to-choose-cand_b_7922194.html short_description\n",
      "Be on TOP : //www.huffingtonpost.com/entry/be-on-top-amazon-best-sel_b_12508618.html short_description\n",
      "Memo To EPA Chief Pruitt : //www.huffingtonpost.com/entry/memo-to-epa-chief-pruitt-lets-end-subsidies-for-fossil_us_59ee9567e4b0b8a51417bcc6 short_description\n",
      "Satire Will Not Save Us : //www.huffingtonpost.com/entry/tal-fortgang-satire-will-not-save-us_b_5283369.html short_description\n",
      "WATCH : //www.huffingtonpost.com/entry/perrish-cox-flop-49ers-saints_n_6129774.html short_description\n",
      "\n",
      "Cluster 1:\n",
      "Spanish coach facing action in race row : MADRID (AFP) - Spanish national team coach Luis Aragones faces a formal investigation after Spain #39;s Football Federation decided to open disciplinary proceedings over racist comments about Thierry Henry of France and Arsenal.\n",
      "GAME DAY PREVIEW Game time: 6:00 PM : CHARLOTTE, North Carolina (Ticker) -- The Detroit Shock face a critical road test Saturday when they take on the Charlotte Sting at Charlotte Coliseum.\n",
      "College Basketball: Georgia Tech, UConn Win : ATLANTA (Sports Network) - BJ Elder poured in a game-high 27 points to lead fourth-ranked Georgia Tech to a convincing 99-68 win over Michigan in the ACC-Big Ten Challenge at Alexander Memorial Coliseum.\n",
      "Doping case was flawed, report finds : MONTREAL A series of errors and misunderstandings led to the botched drug test that resulted in Tyler Hamilton, the American cyclist, retaining his gold medal from the Athens Olympics, the World Anti-Doping Agency has said in a report.\n",
      "Montgomerie Beats Woods in S. Korean Skins (AP) : AP - Colin Montgomerie held off Tiger Woods to win a one-day Skins event Sunday. Montgomerie finished with nine skins worth  #36;75,000 while Woods had five skins totaling  #36;51,000. South Korea's K.J. Choi also collected  #36;51,000. South Korea's Se Ri Pak, the only woman competing, missed several chances and ended with no skins.\n",
      "\n",
      "Cluster 2:\n",
      "Kerry rolls out tax-cut plan for middle class : After two weeks of focusing on Iraq, Democratic presidential challenger John Kerry turned his emphasis to the economy Saturday, delivering what he called a plan for  quot;middle-class families.\n",
      "Deere's Color Is Green : With big tractors, big sales, and big earnings, Deere's hoeing a profitable row.\n",
      "UN Predicts Boom In Robot Labor : The use of robots around the home to mow lawns, vacuum floors and manage other chores is set to surge sevenfold by 2007 as more consumers snap up smart machines, the United Nations said.\n",
      "Oil Falls Below \\$49 on Nigeria Cease-Fire : LONDON (Reuters) - Oil prices dropped from record highs  above \\$50 a barrel on Wednesday as the U.S. government reported  a surprise increase in crude stocks and rebels in Nigeria's  oil-rich delta region agreed a cease-fire.\n",
      "Typhoon-Like Gusts Hit Japan; 13 Injured : TOKYO - Gale-force winds pounded eastern Japan early Sunday, knocking out power to homes, stirring coastal waves that caused a tanker ship to run aground and injuring at least 13 people.\n",
      "\n",
      "Cluster 3:\n",
      "Bruce Lee statue for divided city : In Bosnia, where one man #39;s hero is often another man #39;s villain, some citizens have decided to honour one whom Serbs, Croats and Muslims can all look up to - the kung fu great Bruce Lee.\n",
      "Harry #39;s argy-bargy : PRINCE Charles has asked Scotland Yard for an in-depth report on his son Harry #39;s trip to Argentina after reports of excessive drinking and a kidnap plot.\n",
      "Fischer's Fiancee: Marriage Plans Genuine (AP) : AP - Former chess champion Bobby Fischer's announcement thathe is engaged to a Japanese woman could win him sympathy among Japanese officials and help him avoid deportation to the United States, his fiancee and one of his supporters said Tuesday.\n",
      "Israel Kills 3 Palestinians in Big Gaza Incursion (Reuters) : Reuters - Israeli forces killed three\\Palestinians, including two teenagers, on Wednesday after\\storming into the northern Gaza Strip for the third time in as\\many months to quell Palestinian rocket fire into Israel.\n",
      "Agencies Postpone Issuing New Rules Until After Election : Federal agencies have delayed a range of proposed regulations from food safety to corporate governance until after Election Day.\n",
      "\n",
      "Cluster 4:\n",
      "Only Lovers Left Alive's Tilda Swinton Talks About Almost Quitting Acting and Yasmine Hamdan Performs 'Hal' Live In NYC   (HuffPo Exclusive Videos) authors : Yasmine Hamdan performs 'Hal' which she also sings in the film during a scene when two world-weary vampires begin to heal and find a way to continue living as they remember the power and mystery of creation itself.\n",
      "Time to Talk Baseball : It's time to talk about the serious risks and potential benefits of building an expensive ballpark in Washington.\n",
      "Bump Stock Maker Resumes Sales One Month After Las Vegas Mass Shooting authors : Move along nothing to see here.\n",
      "Obama Marks Anniversary Of 9/11 Attacks With Moment Of Silence authors : We stand as strong as ever.\n",
      "Republican Congressman Says Trump Should Apologize To Obama And The UK authors : Best not to hold your breath on that one.\n",
      "\n",
      "Cluster 5:\n",
      "Macromedia contributes to eBay Stores : Macromedia has announced a special version of its Contribute website editing application designed to simplify the creation and customisation of eBay Stores.\n",
      "Qualcomm plans to phone it in on cellular repairs : Over-the-air fixes for cell phones comes to Qualcomm's CDMA.\n",
      "Thomson to Back Both Blu-ray and HD-DVD : Company, one of the core backers of Blu-ray, will also support its rival format.\n",
      "FTC Files First Lawsuit Against Spyware Concerns : The Federal Trade Commission formally announced yesterday its first assault against spyware - bits of computer code that surreptitiously install themselves on the computers of Internet users\n",
      "Kmart-Sears merger about price, quality : Average customers know the same thing that ministers of high finance understand: It #39;s all about the price. Shoppers Thursday at the Billings Sears store were eager to find out what a proposed\n",
      "\n"
     ]
    }
   ],
   "source": [
    "# 각 클러스터에 대해 처음 3개의 텍스트를 출력합니다.\n",
    "for cluster in range(6):\n",
    "    print(f\"Cluster {cluster}:\")\n",
    "    texts = df[df['kmeans_cluster'] == cluster]['text'].head(5).tolist()\n",
    "    for text in texts:\n",
    "        print(text)\n",
    "    print()\n"
   ]
  },
  {
   "cell_type": "markdown",
   "metadata": {},
   "source": [
    "### Mapping"
   ]
  },
  {
   "cell_type": "code",
   "execution_count": 31,
   "metadata": {},
   "outputs": [],
   "source": [
    "mapping_dict = {\n",
    "    0: 2,  # Politics\n",
    "    1: 3,  # Sports\n",
    "    2: 0,  # Business\n",
    "    3: 5,  # World\n",
    "    4: 1,  # Entertainment\n",
    "    5: 4   # Tech\n",
    "}\n"
   ]
  },
  {
   "cell_type": "code",
   "execution_count": 32,
   "metadata": {},
   "outputs": [],
   "source": [
    "df['mapping'] = df['kmeans_cluster'].apply(lambda x: mapping_dict[x])"
   ]
  },
  {
   "cell_type": "markdown",
   "metadata": {},
   "source": [
    "## Submission"
   ]
  },
  {
   "cell_type": "code",
   "execution_count": 33,
   "metadata": {},
   "outputs": [],
   "source": [
    "sample = pd.read_csv('./submissions/sample_submission.csv')"
   ]
  },
  {
   "cell_type": "code",
   "execution_count": 34,
   "metadata": {},
   "outputs": [
    {
     "data": {
      "text/plain": [
       "0    3\n",
       "1    5\n",
       "2    1\n",
       "3    4\n",
       "4    4\n",
       "Name: category, dtype: int64"
      ]
     },
     "execution_count": 34,
     "metadata": {},
     "output_type": "execute_result"
    }
   ],
   "source": [
    "sample['category'] = df['mapping'].values\n",
    "sample['category'].head()"
   ]
  },
  {
   "cell_type": "code",
   "execution_count": 35,
   "metadata": {},
   "outputs": [],
   "source": [
    "sample.to_csv('./submissions/baseline_submit.csv', index=False)"
   ]
  },
  {
   "cell_type": "code",
   "execution_count": null,
   "metadata": {},
   "outputs": [],
   "source": []
  }
 ],
 "metadata": {
  "kernelspec": {
   "display_name": "Python 3.10(pytorch)",
   "language": "python",
   "name": "pytorch"
  },
  "language_info": {
   "codemirror_mode": {
    "name": "ipython",
    "version": 3
   },
   "file_extension": ".py",
   "mimetype": "text/x-python",
   "name": "python",
   "nbconvert_exporter": "python",
   "pygments_lexer": "ipython3",
   "version": "3.10.12"
  }
 },
 "nbformat": 4,
 "nbformat_minor": 4
}
