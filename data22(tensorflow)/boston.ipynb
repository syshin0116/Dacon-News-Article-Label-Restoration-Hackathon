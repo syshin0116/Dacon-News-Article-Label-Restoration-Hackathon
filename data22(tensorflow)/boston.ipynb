{
 "cells": [
  {
   "cell_type": "code",
   "execution_count": 1,
   "id": "44d132e1-54f1-44de-8352-442500aeffd9",
   "metadata": {},
   "outputs": [],
   "source": [
    "from tensorflow.keras import Sequential\n",
    "from tensorflow.keras.layers import Dense"
   ]
  },
  {
   "cell_type": "code",
   "execution_count": 2,
   "id": "4a8ce679-cb71-4cb3-83c6-9380175d665e",
   "metadata": {},
   "outputs": [
    {
     "name": "stdout",
     "output_type": "stream",
     "text": [
      "Metal device set to: Apple M1 Pro\n"
     ]
    },
    {
     "name": "stderr",
     "output_type": "stream",
     "text": [
      "2022-06-02 17:50:06.311509: I tensorflow/core/common_runtime/pluggable_device/pluggable_device_factory.cc:305] Could not identify NUMA node of platform GPU ID 0, defaulting to 0. Your kernel may not have been built with NUMA support.\n",
      "2022-06-02 17:50:06.311627: I tensorflow/core/common_runtime/pluggable_device/pluggable_device_factory.cc:271] Created TensorFlow device (/job:localhost/replica:0/task:0/device:GPU:0 with 0 MB memory) -> physical PluggableDevice (device: 0, name: METAL, pci bus id: <undefined>)\n"
     ]
    }
   ],
   "source": [
    "model = Sequential()"
   ]
  },
  {
   "cell_type": "code",
   "execution_count": 49,
   "id": "d395faa2-4608-45aa-aa3b-09b4fc545a86",
   "metadata": {},
   "outputs": [],
   "source": [
    "model.add(Dense(units=1, activation='linear', input_dim=1))"
   ]
  },
  {
   "cell_type": "code",
   "execution_count": 50,
   "id": "21cebfa9-0940-4164-aefb-1b0809458916",
   "metadata": {},
   "outputs": [
    {
     "name": "stdout",
     "output_type": "stream",
     "text": [
      "Model: \"sequential\"\n",
      "_________________________________________________________________\n",
      " Layer (type)                Output Shape              Param #   \n",
      "=================================================================\n",
      " dense (Dense)               (None, 1)                 2         \n",
      "                                                                 \n",
      " dense_1 (Dense)             (None, 1)                 2         \n",
      "                                                                 \n",
      " dense_2 (Dense)             (None, 1)                 2         \n",
      "                                                                 \n",
      " dense_3 (Dense)             (None, 1)                 2         \n",
      "                                                                 \n",
      " dense_4 (Dense)             (None, 1)                 2         \n",
      "                                                                 \n",
      " dense_5 (Dense)             (None, 1)                 2         \n",
      "                                                                 \n",
      " dense_6 (Dense)             (None, 1)                 2         \n",
      "                                                                 \n",
      " dense_7 (Dense)             (None, 1)                 2         \n",
      "                                                                 \n",
      " dense_8 (Dense)             (None, 1)                 2         \n",
      "                                                                 \n",
      " dense_9 (Dense)             (None, 1)                 2         \n",
      "                                                                 \n",
      " dense_10 (Dense)            (None, 1)                 2         \n",
      "                                                                 \n",
      " dense_11 (Dense)            (None, 1)                 2         \n",
      "                                                                 \n",
      " dense_12 (Dense)            (None, 1)                 2         \n",
      "                                                                 \n",
      " dense_13 (Dense)            (None, 1)                 2         \n",
      "                                                                 \n",
      " dense_14 (Dense)            (None, 1)                 2         \n",
      "                                                                 \n",
      " dense_15 (Dense)            (None, 1)                 2         \n",
      "                                                                 \n",
      " dense_16 (Dense)            (None, 1)                 2         \n",
      "                                                                 \n",
      " dense_17 (Dense)            (None, 1)                 2         \n",
      "                                                                 \n",
      " dense_18 (Dense)            (None, 1)                 2         \n",
      "                                                                 \n",
      " dense_19 (Dense)            (None, 1)                 2         \n",
      "                                                                 \n",
      " dense_20 (Dense)            (None, 1)                 2         \n",
      "                                                                 \n",
      " dense_21 (Dense)            (None, 1)                 2         \n",
      "                                                                 \n",
      " dense_22 (Dense)            (None, 1)                 2         \n",
      "                                                                 \n",
      " dense_23 (Dense)            (None, 1)                 2         \n",
      "                                                                 \n",
      " dense_24 (Dense)            (None, 1)                 2         \n",
      "                                                                 \n",
      " dense_25 (Dense)            (None, 1)                 2         \n",
      "                                                                 \n",
      " dense_26 (Dense)            (None, 1)                 2         \n",
      "                                                                 \n",
      " dense_27 (Dense)            (None, 1)                 2         \n",
      "                                                                 \n",
      " dense_28 (Dense)            (None, 1)                 2         \n",
      "                                                                 \n",
      " dense_29 (Dense)            (None, 1)                 2         \n",
      "                                                                 \n",
      " dense_30 (Dense)            (None, 1)                 2         \n",
      "                                                                 \n",
      " dense_31 (Dense)            (None, 1)                 2         \n",
      "                                                                 \n",
      " dense_32 (Dense)            (None, 1)                 2         \n",
      "                                                                 \n",
      " dense_33 (Dense)            (None, 1)                 2         \n",
      "                                                                 \n",
      " dense_34 (Dense)            (None, 1)                 2         \n",
      "                                                                 \n",
      " dense_35 (Dense)            (None, 1)                 2         \n",
      "                                                                 \n",
      " dense_36 (Dense)            (None, 1)                 2         \n",
      "                                                                 \n",
      " dense_37 (Dense)            (None, 1)                 2         \n",
      "                                                                 \n",
      " dense_38 (Dense)            (None, 1)                 2         \n",
      "                                                                 \n",
      " dense_39 (Dense)            (None, 1)                 2         \n",
      "                                                                 \n",
      " dense_40 (Dense)            (None, 1)                 2         \n",
      "                                                                 \n",
      "=================================================================\n",
      "Total params: 82\n",
      "Trainable params: 82\n",
      "Non-trainable params: 0\n",
      "_________________________________________________________________\n"
     ]
    }
   ],
   "source": [
    "model.summary()"
   ]
  },
  {
   "cell_type": "code",
   "execution_count": 51,
   "id": "db44e358-53d3-4a91-baf3-60b1bfb53dc2",
   "metadata": {},
   "outputs": [
    {
     "data": {
      "text/plain": [
       "[<tf.Variable 'dense/kernel:0' shape=(1, 1) dtype=float32, numpy=array([[-0.6046591]], dtype=float32)>,\n",
       " <tf.Variable 'dense/bias:0' shape=(1,) dtype=float32, numpy=array([0.], dtype=float32)>,\n",
       " <tf.Variable 'dense_1/kernel:0' shape=(1, 1) dtype=float32, numpy=array([[-0.65196824]], dtype=float32)>,\n",
       " <tf.Variable 'dense_1/bias:0' shape=(1,) dtype=float32, numpy=array([0.], dtype=float32)>,\n",
       " <tf.Variable 'dense_2/kernel:0' shape=(1, 1) dtype=float32, numpy=array([[-0.65196824]], dtype=float32)>,\n",
       " <tf.Variable 'dense_2/bias:0' shape=(1,) dtype=float32, numpy=array([0.], dtype=float32)>,\n",
       " <tf.Variable 'dense_3/kernel:0' shape=(1, 1) dtype=float32, numpy=array([[-0.65196824]], dtype=float32)>,\n",
       " <tf.Variable 'dense_3/bias:0' shape=(1,) dtype=float32, numpy=array([0.], dtype=float32)>,\n",
       " <tf.Variable 'dense_4/kernel:0' shape=(1, 1) dtype=float32, numpy=array([[-0.65196824]], dtype=float32)>,\n",
       " <tf.Variable 'dense_4/bias:0' shape=(1,) dtype=float32, numpy=array([0.], dtype=float32)>,\n",
       " <tf.Variable 'dense_5/kernel:0' shape=(1, 1) dtype=float32, numpy=array([[-0.65196824]], dtype=float32)>,\n",
       " <tf.Variable 'dense_5/bias:0' shape=(1,) dtype=float32, numpy=array([0.], dtype=float32)>,\n",
       " <tf.Variable 'dense_6/kernel:0' shape=(1, 1) dtype=float32, numpy=array([[-0.65196824]], dtype=float32)>,\n",
       " <tf.Variable 'dense_6/bias:0' shape=(1,) dtype=float32, numpy=array([0.], dtype=float32)>,\n",
       " <tf.Variable 'dense_7/kernel:0' shape=(1, 1) dtype=float32, numpy=array([[-0.65196824]], dtype=float32)>,\n",
       " <tf.Variable 'dense_7/bias:0' shape=(1,) dtype=float32, numpy=array([0.], dtype=float32)>,\n",
       " <tf.Variable 'dense_8/kernel:0' shape=(1, 1) dtype=float32, numpy=array([[-0.65196824]], dtype=float32)>,\n",
       " <tf.Variable 'dense_8/bias:0' shape=(1,) dtype=float32, numpy=array([0.], dtype=float32)>,\n",
       " <tf.Variable 'dense_9/kernel:0' shape=(1, 1) dtype=float32, numpy=array([[-0.65196824]], dtype=float32)>,\n",
       " <tf.Variable 'dense_9/bias:0' shape=(1,) dtype=float32, numpy=array([0.], dtype=float32)>,\n",
       " <tf.Variable 'dense_10/kernel:0' shape=(1, 1) dtype=float32, numpy=array([[-0.65196824]], dtype=float32)>,\n",
       " <tf.Variable 'dense_10/bias:0' shape=(1,) dtype=float32, numpy=array([0.], dtype=float32)>,\n",
       " <tf.Variable 'dense_11/kernel:0' shape=(1, 1) dtype=float32, numpy=array([[-0.65196824]], dtype=float32)>,\n",
       " <tf.Variable 'dense_11/bias:0' shape=(1,) dtype=float32, numpy=array([0.], dtype=float32)>,\n",
       " <tf.Variable 'dense_12/kernel:0' shape=(1, 1) dtype=float32, numpy=array([[-0.65196824]], dtype=float32)>,\n",
       " <tf.Variable 'dense_12/bias:0' shape=(1,) dtype=float32, numpy=array([0.], dtype=float32)>,\n",
       " <tf.Variable 'dense_13/kernel:0' shape=(1, 1) dtype=float32, numpy=array([[-0.65196824]], dtype=float32)>,\n",
       " <tf.Variable 'dense_13/bias:0' shape=(1,) dtype=float32, numpy=array([0.], dtype=float32)>,\n",
       " <tf.Variable 'dense_14/kernel:0' shape=(1, 1) dtype=float32, numpy=array([[-0.65196824]], dtype=float32)>,\n",
       " <tf.Variable 'dense_14/bias:0' shape=(1,) dtype=float32, numpy=array([0.], dtype=float32)>,\n",
       " <tf.Variable 'dense_15/kernel:0' shape=(1, 1) dtype=float32, numpy=array([[-0.65196824]], dtype=float32)>,\n",
       " <tf.Variable 'dense_15/bias:0' shape=(1,) dtype=float32, numpy=array([0.], dtype=float32)>,\n",
       " <tf.Variable 'dense_16/kernel:0' shape=(1, 1) dtype=float32, numpy=array([[-0.65196824]], dtype=float32)>,\n",
       " <tf.Variable 'dense_16/bias:0' shape=(1,) dtype=float32, numpy=array([0.], dtype=float32)>,\n",
       " <tf.Variable 'dense_17/kernel:0' shape=(1, 1) dtype=float32, numpy=array([[-0.65196824]], dtype=float32)>,\n",
       " <tf.Variable 'dense_17/bias:0' shape=(1,) dtype=float32, numpy=array([0.], dtype=float32)>,\n",
       " <tf.Variable 'dense_18/kernel:0' shape=(1, 1) dtype=float32, numpy=array([[-0.65196824]], dtype=float32)>,\n",
       " <tf.Variable 'dense_18/bias:0' shape=(1,) dtype=float32, numpy=array([0.], dtype=float32)>,\n",
       " <tf.Variable 'dense_19/kernel:0' shape=(1, 1) dtype=float32, numpy=array([[-0.65196824]], dtype=float32)>,\n",
       " <tf.Variable 'dense_19/bias:0' shape=(1,) dtype=float32, numpy=array([0.], dtype=float32)>,\n",
       " <tf.Variable 'dense_20/kernel:0' shape=(1, 1) dtype=float32, numpy=array([[-0.65196824]], dtype=float32)>,\n",
       " <tf.Variable 'dense_20/bias:0' shape=(1,) dtype=float32, numpy=array([0.], dtype=float32)>,\n",
       " <tf.Variable 'dense_21/kernel:0' shape=(1, 1) dtype=float32, numpy=array([[-0.65196824]], dtype=float32)>,\n",
       " <tf.Variable 'dense_21/bias:0' shape=(1,) dtype=float32, numpy=array([0.], dtype=float32)>,\n",
       " <tf.Variable 'dense_22/kernel:0' shape=(1, 1) dtype=float32, numpy=array([[-0.65196824]], dtype=float32)>,\n",
       " <tf.Variable 'dense_22/bias:0' shape=(1,) dtype=float32, numpy=array([0.], dtype=float32)>,\n",
       " <tf.Variable 'dense_23/kernel:0' shape=(1, 1) dtype=float32, numpy=array([[-0.65196824]], dtype=float32)>,\n",
       " <tf.Variable 'dense_23/bias:0' shape=(1,) dtype=float32, numpy=array([0.], dtype=float32)>,\n",
       " <tf.Variable 'dense_24/kernel:0' shape=(1, 1) dtype=float32, numpy=array([[-0.65196824]], dtype=float32)>,\n",
       " <tf.Variable 'dense_24/bias:0' shape=(1,) dtype=float32, numpy=array([0.], dtype=float32)>,\n",
       " <tf.Variable 'dense_25/kernel:0' shape=(1, 1) dtype=float32, numpy=array([[-0.65196824]], dtype=float32)>,\n",
       " <tf.Variable 'dense_25/bias:0' shape=(1,) dtype=float32, numpy=array([0.], dtype=float32)>,\n",
       " <tf.Variable 'dense_26/kernel:0' shape=(1, 1) dtype=float32, numpy=array([[-0.65196824]], dtype=float32)>,\n",
       " <tf.Variable 'dense_26/bias:0' shape=(1,) dtype=float32, numpy=array([0.], dtype=float32)>,\n",
       " <tf.Variable 'dense_27/kernel:0' shape=(1, 1) dtype=float32, numpy=array([[-0.65196824]], dtype=float32)>,\n",
       " <tf.Variable 'dense_27/bias:0' shape=(1,) dtype=float32, numpy=array([0.], dtype=float32)>,\n",
       " <tf.Variable 'dense_28/kernel:0' shape=(1, 1) dtype=float32, numpy=array([[-0.65196824]], dtype=float32)>,\n",
       " <tf.Variable 'dense_28/bias:0' shape=(1,) dtype=float32, numpy=array([0.], dtype=float32)>,\n",
       " <tf.Variable 'dense_29/kernel:0' shape=(1, 1) dtype=float32, numpy=array([[-0.65196824]], dtype=float32)>,\n",
       " <tf.Variable 'dense_29/bias:0' shape=(1,) dtype=float32, numpy=array([0.], dtype=float32)>,\n",
       " <tf.Variable 'dense_30/kernel:0' shape=(1, 1) dtype=float32, numpy=array([[-0.65196824]], dtype=float32)>,\n",
       " <tf.Variable 'dense_30/bias:0' shape=(1,) dtype=float32, numpy=array([0.], dtype=float32)>,\n",
       " <tf.Variable 'dense_31/kernel:0' shape=(1, 1) dtype=float32, numpy=array([[-0.65196824]], dtype=float32)>,\n",
       " <tf.Variable 'dense_31/bias:0' shape=(1,) dtype=float32, numpy=array([0.], dtype=float32)>,\n",
       " <tf.Variable 'dense_32/kernel:0' shape=(1, 1) dtype=float32, numpy=array([[-0.65196824]], dtype=float32)>,\n",
       " <tf.Variable 'dense_32/bias:0' shape=(1,) dtype=float32, numpy=array([0.], dtype=float32)>,\n",
       " <tf.Variable 'dense_33/kernel:0' shape=(1, 1) dtype=float32, numpy=array([[-0.65196824]], dtype=float32)>,\n",
       " <tf.Variable 'dense_33/bias:0' shape=(1,) dtype=float32, numpy=array([0.], dtype=float32)>,\n",
       " <tf.Variable 'dense_34/kernel:0' shape=(1, 1) dtype=float32, numpy=array([[-0.65196824]], dtype=float32)>,\n",
       " <tf.Variable 'dense_34/bias:0' shape=(1,) dtype=float32, numpy=array([0.], dtype=float32)>,\n",
       " <tf.Variable 'dense_35/kernel:0' shape=(1, 1) dtype=float32, numpy=array([[-0.65196824]], dtype=float32)>,\n",
       " <tf.Variable 'dense_35/bias:0' shape=(1,) dtype=float32, numpy=array([0.], dtype=float32)>,\n",
       " <tf.Variable 'dense_36/kernel:0' shape=(1, 1) dtype=float32, numpy=array([[-0.65196824]], dtype=float32)>,\n",
       " <tf.Variable 'dense_36/bias:0' shape=(1,) dtype=float32, numpy=array([0.], dtype=float32)>,\n",
       " <tf.Variable 'dense_37/kernel:0' shape=(1, 1) dtype=float32, numpy=array([[-0.65196824]], dtype=float32)>,\n",
       " <tf.Variable 'dense_37/bias:0' shape=(1,) dtype=float32, numpy=array([0.], dtype=float32)>,\n",
       " <tf.Variable 'dense_38/kernel:0' shape=(1, 1) dtype=float32, numpy=array([[-0.65196824]], dtype=float32)>,\n",
       " <tf.Variable 'dense_38/bias:0' shape=(1,) dtype=float32, numpy=array([0.], dtype=float32)>,\n",
       " <tf.Variable 'dense_39/kernel:0' shape=(1, 1) dtype=float32, numpy=array([[-0.65196824]], dtype=float32)>,\n",
       " <tf.Variable 'dense_39/bias:0' shape=(1,) dtype=float32, numpy=array([0.], dtype=float32)>,\n",
       " <tf.Variable 'dense_40/kernel:0' shape=(1, 1) dtype=float32, numpy=array([[-0.65196824]], dtype=float32)>,\n",
       " <tf.Variable 'dense_40/bias:0' shape=(1,) dtype=float32, numpy=array([0.], dtype=float32)>]"
      ]
     },
     "execution_count": 51,
     "metadata": {},
     "output_type": "execute_result"
    }
   ],
   "source": [
    "model.weights"
   ]
  },
  {
   "cell_type": "code",
   "execution_count": 52,
   "id": "d6509eef-4fbf-4641-9bcb-7fb15859a20b",
   "metadata": {},
   "outputs": [
    {
     "name": "stdout",
     "output_type": "stream",
     "text": [
      "1/1 [==============================] - 0s 13ms/step\n"
     ]
    },
    {
     "data": {
      "text/plain": [
       "array([[-0.510813  ],\n",
       "       [-0.55725044],\n",
       "       [-0.60368806]], dtype=float32)"
      ]
     },
     "execution_count": 52,
     "metadata": {},
     "output_type": "execute_result"
    }
   ],
   "source": [
    "model.predict([[11],[12],[13]])"
   ]
  },
  {
   "cell_type": "code",
   "execution_count": null,
   "id": "99eeca74-2c14-4146-95d7-506268830f22",
   "metadata": {},
   "outputs": [],
   "source": []
  },
  {
   "cell_type": "code",
   "execution_count": 53,
   "id": "54944368-a67b-40d9-918c-39835f6c1bca",
   "metadata": {},
   "outputs": [],
   "source": [
    "import pandas as pd\n",
    "import numpy as np\n",
    "import random\n",
    "import tensorflow as tf"
   ]
  },
  {
   "cell_type": "code",
   "execution_count": 54,
   "id": "aeb89f18-a861-42fa-a97f-12ceea0f52c9",
   "metadata": {},
   "outputs": [
    {
     "name": "stdout",
     "output_type": "stream",
     "text": [
      "시드 고정 12\n"
     ]
    }
   ],
   "source": [
    "SEED = 12\n",
    "random.seed(SEED)\n",
    "np.random.seed(SEED)\n",
    "tf.random.set_seed(SEED)\n",
    "print('시드 고정', SEED)"
   ]
  },
  {
   "cell_type": "code",
   "execution_count": 57,
   "id": "4eee0439-eb56-4c35-841e-896f381094e8",
   "metadata": {},
   "outputs": [
    {
     "name": "stdout",
     "output_type": "stream",
     "text": [
      "(506, 13) (506,)\n"
     ]
    }
   ],
   "source": [
    "from sklearn import datasets\n",
    "housing = datasets.load_boston()\n",
    "X_data = housing.data\n",
    "y_data = housing.target\n",
    "print(X_data.shape, y_data.shape)"
   ]
  },
  {
   "cell_type": "code",
   "execution_count": 65,
   "id": "4353f5a3-096d-4b69-85df-af01a4d19cc3",
   "metadata": {},
   "outputs": [
    {
     "data": {
      "text/plain": [
       "{'data': array([[6.3200e-03, 1.8000e+01, 2.3100e+00, ..., 1.5300e+01, 3.9690e+02,\n",
       "         4.9800e+00],\n",
       "        [2.7310e-02, 0.0000e+00, 7.0700e+00, ..., 1.7800e+01, 3.9690e+02,\n",
       "         9.1400e+00],\n",
       "        [2.7290e-02, 0.0000e+00, 7.0700e+00, ..., 1.7800e+01, 3.9283e+02,\n",
       "         4.0300e+00],\n",
       "        ...,\n",
       "        [6.0760e-02, 0.0000e+00, 1.1930e+01, ..., 2.1000e+01, 3.9690e+02,\n",
       "         5.6400e+00],\n",
       "        [1.0959e-01, 0.0000e+00, 1.1930e+01, ..., 2.1000e+01, 3.9345e+02,\n",
       "         6.4800e+00],\n",
       "        [4.7410e-02, 0.0000e+00, 1.1930e+01, ..., 2.1000e+01, 3.9690e+02,\n",
       "         7.8800e+00]]),\n",
       " 'target': array([24. , 21.6, 34.7, 33.4, 36.2, 28.7, 22.9, 27.1, 16.5, 18.9, 15. ,\n",
       "        18.9, 21.7, 20.4, 18.2, 19.9, 23.1, 17.5, 20.2, 18.2, 13.6, 19.6,\n",
       "        15.2, 14.5, 15.6, 13.9, 16.6, 14.8, 18.4, 21. , 12.7, 14.5, 13.2,\n",
       "        13.1, 13.5, 18.9, 20. , 21. , 24.7, 30.8, 34.9, 26.6, 25.3, 24.7,\n",
       "        21.2, 19.3, 20. , 16.6, 14.4, 19.4, 19.7, 20.5, 25. , 23.4, 18.9,\n",
       "        35.4, 24.7, 31.6, 23.3, 19.6, 18.7, 16. , 22.2, 25. , 33. , 23.5,\n",
       "        19.4, 22. , 17.4, 20.9, 24.2, 21.7, 22.8, 23.4, 24.1, 21.4, 20. ,\n",
       "        20.8, 21.2, 20.3, 28. , 23.9, 24.8, 22.9, 23.9, 26.6, 22.5, 22.2,\n",
       "        23.6, 28.7, 22.6, 22. , 22.9, 25. , 20.6, 28.4, 21.4, 38.7, 43.8,\n",
       "        33.2, 27.5, 26.5, 18.6, 19.3, 20.1, 19.5, 19.5, 20.4, 19.8, 19.4,\n",
       "        21.7, 22.8, 18.8, 18.7, 18.5, 18.3, 21.2, 19.2, 20.4, 19.3, 22. ,\n",
       "        20.3, 20.5, 17.3, 18.8, 21.4, 15.7, 16.2, 18. , 14.3, 19.2, 19.6,\n",
       "        23. , 18.4, 15.6, 18.1, 17.4, 17.1, 13.3, 17.8, 14. , 14.4, 13.4,\n",
       "        15.6, 11.8, 13.8, 15.6, 14.6, 17.8, 15.4, 21.5, 19.6, 15.3, 19.4,\n",
       "        17. , 15.6, 13.1, 41.3, 24.3, 23.3, 27. , 50. , 50. , 50. , 22.7,\n",
       "        25. , 50. , 23.8, 23.8, 22.3, 17.4, 19.1, 23.1, 23.6, 22.6, 29.4,\n",
       "        23.2, 24.6, 29.9, 37.2, 39.8, 36.2, 37.9, 32.5, 26.4, 29.6, 50. ,\n",
       "        32. , 29.8, 34.9, 37. , 30.5, 36.4, 31.1, 29.1, 50. , 33.3, 30.3,\n",
       "        34.6, 34.9, 32.9, 24.1, 42.3, 48.5, 50. , 22.6, 24.4, 22.5, 24.4,\n",
       "        20. , 21.7, 19.3, 22.4, 28.1, 23.7, 25. , 23.3, 28.7, 21.5, 23. ,\n",
       "        26.7, 21.7, 27.5, 30.1, 44.8, 50. , 37.6, 31.6, 46.7, 31.5, 24.3,\n",
       "        31.7, 41.7, 48.3, 29. , 24. , 25.1, 31.5, 23.7, 23.3, 22. , 20.1,\n",
       "        22.2, 23.7, 17.6, 18.5, 24.3, 20.5, 24.5, 26.2, 24.4, 24.8, 29.6,\n",
       "        42.8, 21.9, 20.9, 44. , 50. , 36. , 30.1, 33.8, 43.1, 48.8, 31. ,\n",
       "        36.5, 22.8, 30.7, 50. , 43.5, 20.7, 21.1, 25.2, 24.4, 35.2, 32.4,\n",
       "        32. , 33.2, 33.1, 29.1, 35.1, 45.4, 35.4, 46. , 50. , 32.2, 22. ,\n",
       "        20.1, 23.2, 22.3, 24.8, 28.5, 37.3, 27.9, 23.9, 21.7, 28.6, 27.1,\n",
       "        20.3, 22.5, 29. , 24.8, 22. , 26.4, 33.1, 36.1, 28.4, 33.4, 28.2,\n",
       "        22.8, 20.3, 16.1, 22.1, 19.4, 21.6, 23.8, 16.2, 17.8, 19.8, 23.1,\n",
       "        21. , 23.8, 23.1, 20.4, 18.5, 25. , 24.6, 23. , 22.2, 19.3, 22.6,\n",
       "        19.8, 17.1, 19.4, 22.2, 20.7, 21.1, 19.5, 18.5, 20.6, 19. , 18.7,\n",
       "        32.7, 16.5, 23.9, 31.2, 17.5, 17.2, 23.1, 24.5, 26.6, 22.9, 24.1,\n",
       "        18.6, 30.1, 18.2, 20.6, 17.8, 21.7, 22.7, 22.6, 25. , 19.9, 20.8,\n",
       "        16.8, 21.9, 27.5, 21.9, 23.1, 50. , 50. , 50. , 50. , 50. , 13.8,\n",
       "        13.8, 15. , 13.9, 13.3, 13.1, 10.2, 10.4, 10.9, 11.3, 12.3,  8.8,\n",
       "         7.2, 10.5,  7.4, 10.2, 11.5, 15.1, 23.2,  9.7, 13.8, 12.7, 13.1,\n",
       "        12.5,  8.5,  5. ,  6.3,  5.6,  7.2, 12.1,  8.3,  8.5,  5. , 11.9,\n",
       "        27.9, 17.2, 27.5, 15. , 17.2, 17.9, 16.3,  7. ,  7.2,  7.5, 10.4,\n",
       "         8.8,  8.4, 16.7, 14.2, 20.8, 13.4, 11.7,  8.3, 10.2, 10.9, 11. ,\n",
       "         9.5, 14.5, 14.1, 16.1, 14.3, 11.7, 13.4,  9.6,  8.7,  8.4, 12.8,\n",
       "        10.5, 17.1, 18.4, 15.4, 10.8, 11.8, 14.9, 12.6, 14.1, 13. , 13.4,\n",
       "        15.2, 16.1, 17.8, 14.9, 14.1, 12.7, 13.5, 14.9, 20. , 16.4, 17.7,\n",
       "        19.5, 20.2, 21.4, 19.9, 19. , 19.1, 19.1, 20.1, 19.9, 19.6, 23.2,\n",
       "        29.8, 13.8, 13.3, 16.7, 12. , 14.6, 21.4, 23. , 23.7, 25. , 21.8,\n",
       "        20.6, 21.2, 19.1, 20.6, 15.2,  7. ,  8.1, 13.6, 20.1, 21.8, 24.5,\n",
       "        23.1, 19.7, 18.3, 21.2, 17.5, 16.8, 22.4, 20.6, 23.9, 22. , 11.9]),\n",
       " 'feature_names': array(['CRIM', 'ZN', 'INDUS', 'CHAS', 'NOX', 'RM', 'AGE', 'DIS', 'RAD',\n",
       "        'TAX', 'PTRATIO', 'B', 'LSTAT'], dtype='<U7'),\n",
       " 'DESCR': \".. _boston_dataset:\\n\\nBoston house prices dataset\\n---------------------------\\n\\n**Data Set Characteristics:**  \\n\\n    :Number of Instances: 506 \\n\\n    :Number of Attributes: 13 numeric/categorical predictive. Median Value (attribute 14) is usually the target.\\n\\n    :Attribute Information (in order):\\n        - CRIM     per capita crime rate by town\\n        - ZN       proportion of residential land zoned for lots over 25,000 sq.ft.\\n        - INDUS    proportion of non-retail business acres per town\\n        - CHAS     Charles River dummy variable (= 1 if tract bounds river; 0 otherwise)\\n        - NOX      nitric oxides concentration (parts per 10 million)\\n        - RM       average number of rooms per dwelling\\n        - AGE      proportion of owner-occupied units built prior to 1940\\n        - DIS      weighted distances to five Boston employment centres\\n        - RAD      index of accessibility to radial highways\\n        - TAX      full-value property-tax rate per $10,000\\n        - PTRATIO  pupil-teacher ratio by town\\n        - B        1000(Bk - 0.63)^2 where Bk is the proportion of black people by town\\n        - LSTAT    % lower status of the population\\n        - MEDV     Median value of owner-occupied homes in $1000's\\n\\n    :Missing Attribute Values: None\\n\\n    :Creator: Harrison, D. and Rubinfeld, D.L.\\n\\nThis is a copy of UCI ML housing dataset.\\nhttps://archive.ics.uci.edu/ml/machine-learning-databases/housing/\\n\\n\\nThis dataset was taken from the StatLib library which is maintained at Carnegie Mellon University.\\n\\nThe Boston house-price data of Harrison, D. and Rubinfeld, D.L. 'Hedonic\\nprices and the demand for clean air', J. Environ. Economics & Management,\\nvol.5, 81-102, 1978.   Used in Belsley, Kuh & Welsch, 'Regression diagnostics\\n...', Wiley, 1980.   N.B. Various transformations are used in the table on\\npages 244-261 of the latter.\\n\\nThe Boston house-price data has been used in many machine learning papers that address regression\\nproblems.   \\n     \\n.. topic:: References\\n\\n   - Belsley, Kuh & Welsch, 'Regression diagnostics: Identifying Influential Data and Sources of Collinearity', Wiley, 1980. 244-261.\\n   - Quinlan,R. (1993). Combining Instance-Based and Model-Based Learning. In Proceedings on the Tenth International Conference of Machine Learning, 236-243, University of Massachusetts, Amherst. Morgan Kaufmann.\\n\",\n",
       " 'filename': 'boston_house_prices.csv',\n",
       " 'data_module': 'sklearn.datasets.data'}"
      ]
     },
     "execution_count": 65,
     "metadata": {},
     "output_type": "execute_result"
    }
   ],
   "source": [
    "housing"
   ]
  },
  {
   "cell_type": "code",
   "execution_count": 73,
   "id": "adc7108f-8151-44bf-a459-00194afb7371",
   "metadata": {},
   "outputs": [
    {
     "data": {
      "text/plain": [
       "array([0.        , 0.18      , 0.06781525, 0.        , 0.31481481,\n",
       "       0.57750527, 0.64160659, 0.26920314, 0.        , 0.20801527,\n",
       "       0.28723404, 1.        , 0.08967991])"
      ]
     },
     "execution_count": 73,
     "metadata": {},
     "output_type": "execute_result"
    }
   ],
   "source": [
    "## 전처리\n",
    "from sklearn.preprocessing import MinMaxScaler\n",
    "scaler = MinMaxScaler()\n",
    "X_data_scaled = scaler.fit_transform(X_data)\n",
    "X_data_scaled[0]"
   ]
  },
  {
   "cell_type": "code",
   "execution_count": 74,
   "id": "89ca2e18-4ef8-475a-a3be-0eb7a108d713",
   "metadata": {},
   "outputs": [],
   "source": [
    "## 딥러닝 모델 만들어서\n",
    "model2 = Sequential()\n",
    "model2.add(Dense(128, activation='relu', input_dim=13))\n",
    "model2.add(Dense(64, activation='relu'))\n",
    "model2.add(Dense(1, activation='linear'))"
   ]
  },
  {
   "cell_type": "code",
   "execution_count": 75,
   "id": "6239013d-a6db-4f6b-b8ec-5a36a489e54a",
   "metadata": {},
   "outputs": [
    {
     "name": "stdout",
     "output_type": "stream",
     "text": [
      "Model: \"sequential_2\"\n",
      "_________________________________________________________________\n",
      " Layer (type)                Output Shape              Param #   \n",
      "=================================================================\n",
      " dense_44 (Dense)            (None, 128)               1792      \n",
      "                                                                 \n",
      " dense_45 (Dense)            (None, 64)                8256      \n",
      "                                                                 \n",
      " dense_46 (Dense)            (None, 1)                 65        \n",
      "                                                                 \n",
      "=================================================================\n",
      "Total params: 10,113\n",
      "Trainable params: 10,113\n",
      "Non-trainable params: 0\n",
      "_________________________________________________________________\n"
     ]
    }
   ],
   "source": [
    "## 위에 쌓은 모델로 설정해주세요.\n",
    "model2.compile(optimizer='adam', loss='mse', metrics=['mae'])\n",
    "model2.summary()"
   ]
  },
  {
   "cell_type": "code",
   "execution_count": 85,
   "id": "a1683f73-1d12-4400-97e8-92eb8c4b3908",
   "metadata": {},
   "outputs": [
    {
     "name": "stdout",
     "output_type": "stream",
     "text": [
      "Epoch 1/100\n",
      "8/8 - 0s - loss: 3.5152 - mae: 1.3501 - 63ms/epoch - 8ms/step\n",
      "Epoch 2/100\n",
      "8/8 - 0s - loss: 3.2265 - mae: 1.2921 - 40ms/epoch - 5ms/step\n",
      "Epoch 3/100\n",
      "8/8 - 0s - loss: 3.4091 - mae: 1.3425 - 37ms/epoch - 5ms/step\n",
      "Epoch 4/100\n",
      "8/8 - 0s - loss: 3.4776 - mae: 1.3345 - 35ms/epoch - 4ms/step\n",
      "Epoch 5/100\n",
      "8/8 - 0s - loss: 3.4678 - mae: 1.3552 - 38ms/epoch - 5ms/step\n",
      "Epoch 6/100\n",
      "8/8 - 0s - loss: 3.3189 - mae: 1.3291 - 35ms/epoch - 4ms/step\n",
      "Epoch 7/100\n",
      "8/8 - 0s - loss: 3.4792 - mae: 1.3512 - 35ms/epoch - 4ms/step\n",
      "Epoch 8/100\n",
      "8/8 - 0s - loss: 3.7963 - mae: 1.4299 - 35ms/epoch - 4ms/step\n",
      "Epoch 9/100\n",
      "8/8 - 0s - loss: 3.3133 - mae: 1.3208 - 35ms/epoch - 4ms/step\n",
      "Epoch 10/100\n",
      "8/8 - 0s - loss: 3.3007 - mae: 1.2981 - 34ms/epoch - 4ms/step\n",
      "Epoch 11/100\n",
      "8/8 - 0s - loss: 3.3315 - mae: 1.3112 - 34ms/epoch - 4ms/step\n",
      "Epoch 12/100\n",
      "8/8 - 0s - loss: 3.3482 - mae: 1.3088 - 34ms/epoch - 4ms/step\n",
      "Epoch 13/100\n",
      "8/8 - 0s - loss: 3.3365 - mae: 1.3191 - 35ms/epoch - 4ms/step\n",
      "Epoch 14/100\n",
      "8/8 - 0s - loss: 3.3219 - mae: 1.3180 - 34ms/epoch - 4ms/step\n",
      "Epoch 15/100\n",
      "8/8 - 0s - loss: 3.2464 - mae: 1.3026 - 36ms/epoch - 4ms/step\n",
      "Epoch 16/100\n",
      "8/8 - 0s - loss: 3.3898 - mae: 1.3099 - 35ms/epoch - 4ms/step\n",
      "Epoch 17/100\n",
      "8/8 - 0s - loss: 3.3446 - mae: 1.3071 - 35ms/epoch - 4ms/step\n",
      "Epoch 18/100\n",
      "8/8 - 0s - loss: 3.2789 - mae: 1.3294 - 35ms/epoch - 4ms/step\n",
      "Epoch 19/100\n",
      "8/8 - 0s - loss: 3.4260 - mae: 1.3386 - 36ms/epoch - 4ms/step\n",
      "Epoch 20/100\n",
      "8/8 - 0s - loss: 3.2503 - mae: 1.3001 - 36ms/epoch - 4ms/step\n",
      "Epoch 21/100\n",
      "8/8 - 0s - loss: 3.2321 - mae: 1.3035 - 35ms/epoch - 4ms/step\n",
      "Epoch 22/100\n",
      "8/8 - 0s - loss: 3.2451 - mae: 1.2940 - 36ms/epoch - 5ms/step\n",
      "Epoch 23/100\n",
      "8/8 - 0s - loss: 3.2714 - mae: 1.3109 - 36ms/epoch - 4ms/step\n",
      "Epoch 24/100\n",
      "8/8 - 0s - loss: 3.2195 - mae: 1.2927 - 36ms/epoch - 4ms/step\n",
      "Epoch 25/100\n",
      "8/8 - 0s - loss: 3.2232 - mae: 1.2904 - 37ms/epoch - 5ms/step\n",
      "Epoch 26/100\n",
      "8/8 - 0s - loss: 3.2205 - mae: 1.2907 - 35ms/epoch - 4ms/step\n",
      "Epoch 27/100\n",
      "8/8 - 0s - loss: 3.3232 - mae: 1.3064 - 35ms/epoch - 4ms/step\n",
      "Epoch 28/100\n",
      "8/8 - 0s - loss: 3.2825 - mae: 1.3029 - 35ms/epoch - 4ms/step\n",
      "Epoch 29/100\n",
      "8/8 - 0s - loss: 3.2688 - mae: 1.2965 - 34ms/epoch - 4ms/step\n",
      "Epoch 30/100\n",
      "8/8 - 0s - loss: 3.2368 - mae: 1.2839 - 34ms/epoch - 4ms/step\n",
      "Epoch 31/100\n",
      "8/8 - 0s - loss: 3.2900 - mae: 1.3103 - 34ms/epoch - 4ms/step\n",
      "Epoch 32/100\n",
      "8/8 - 0s - loss: 3.2602 - mae: 1.3187 - 35ms/epoch - 4ms/step\n",
      "Epoch 33/100\n",
      "8/8 - 0s - loss: 3.2627 - mae: 1.2930 - 36ms/epoch - 5ms/step\n",
      "Epoch 34/100\n",
      "8/8 - 0s - loss: 3.2311 - mae: 1.2927 - 35ms/epoch - 4ms/step\n",
      "Epoch 35/100\n",
      "8/8 - 0s - loss: 3.3335 - mae: 1.3166 - 35ms/epoch - 4ms/step\n",
      "Epoch 36/100\n",
      "8/8 - 0s - loss: 3.5415 - mae: 1.3679 - 36ms/epoch - 4ms/step\n",
      "Epoch 37/100\n",
      "8/8 - 0s - loss: 3.2881 - mae: 1.3131 - 36ms/epoch - 4ms/step\n",
      "Epoch 38/100\n",
      "8/8 - 0s - loss: 3.3311 - mae: 1.3124 - 35ms/epoch - 4ms/step\n",
      "Epoch 39/100\n",
      "8/8 - 0s - loss: 3.2512 - mae: 1.2983 - 34ms/epoch - 4ms/step\n",
      "Epoch 40/100\n",
      "8/8 - 0s - loss: 3.2187 - mae: 1.2909 - 35ms/epoch - 4ms/step\n",
      "Epoch 41/100\n",
      "8/8 - 0s - loss: 3.1825 - mae: 1.2905 - 34ms/epoch - 4ms/step\n",
      "Epoch 42/100\n",
      "8/8 - 0s - loss: 3.3641 - mae: 1.3423 - 35ms/epoch - 4ms/step\n",
      "Epoch 43/100\n",
      "8/8 - 0s - loss: 3.2857 - mae: 1.2927 - 35ms/epoch - 4ms/step\n",
      "Epoch 44/100\n",
      "8/8 - 0s - loss: 3.2004 - mae: 1.2865 - 35ms/epoch - 4ms/step\n",
      "Epoch 45/100\n",
      "8/8 - 0s - loss: 3.2008 - mae: 1.2882 - 36ms/epoch - 5ms/step\n",
      "Epoch 46/100\n",
      "8/8 - 0s - loss: 3.3053 - mae: 1.2982 - 35ms/epoch - 4ms/step\n",
      "Epoch 47/100\n",
      "8/8 - 0s - loss: 3.2318 - mae: 1.3064 - 35ms/epoch - 4ms/step\n",
      "Epoch 48/100\n",
      "8/8 - 0s - loss: 3.2370 - mae: 1.2924 - 44ms/epoch - 5ms/step\n",
      "Epoch 49/100\n",
      "8/8 - 0s - loss: 3.2191 - mae: 1.3065 - 38ms/epoch - 5ms/step\n",
      "Epoch 50/100\n",
      "8/8 - 0s - loss: 3.1999 - mae: 1.2889 - 37ms/epoch - 5ms/step\n",
      "Epoch 51/100\n",
      "8/8 - 0s - loss: 3.3398 - mae: 1.3383 - 36ms/epoch - 4ms/step\n",
      "Epoch 52/100\n",
      "8/8 - 0s - loss: 3.3975 - mae: 1.3505 - 35ms/epoch - 4ms/step\n",
      "Epoch 53/100\n",
      "8/8 - 0s - loss: 3.1929 - mae: 1.2893 - 36ms/epoch - 4ms/step\n",
      "Epoch 54/100\n",
      "8/8 - 0s - loss: 3.4674 - mae: 1.3493 - 35ms/epoch - 4ms/step\n",
      "Epoch 55/100\n",
      "8/8 - 0s - loss: 3.1795 - mae: 1.2964 - 35ms/epoch - 4ms/step\n",
      "Epoch 56/100\n",
      "8/8 - 0s - loss: 3.1422 - mae: 1.2704 - 34ms/epoch - 4ms/step\n",
      "Epoch 57/100\n",
      "8/8 - 0s - loss: 3.2122 - mae: 1.2840 - 33ms/epoch - 4ms/step\n",
      "Epoch 58/100\n",
      "8/8 - 0s - loss: 3.1489 - mae: 1.2863 - 35ms/epoch - 4ms/step\n",
      "Epoch 59/100\n",
      "8/8 - 0s - loss: 3.1793 - mae: 1.2925 - 36ms/epoch - 5ms/step\n",
      "Epoch 60/100\n",
      "8/8 - 0s - loss: 3.1349 - mae: 1.2644 - 46ms/epoch - 6ms/step\n",
      "Epoch 61/100\n",
      "8/8 - 0s - loss: 3.2200 - mae: 1.3008 - 38ms/epoch - 5ms/step\n",
      "Epoch 62/100\n",
      "8/8 - 0s - loss: 3.1888 - mae: 1.3001 - 34ms/epoch - 4ms/step\n",
      "Epoch 63/100\n",
      "8/8 - 0s - loss: 3.3162 - mae: 1.3061 - 35ms/epoch - 4ms/step\n",
      "Epoch 64/100\n",
      "8/8 - 0s - loss: 3.1941 - mae: 1.2951 - 35ms/epoch - 4ms/step\n",
      "Epoch 65/100\n",
      "8/8 - 0s - loss: 3.2026 - mae: 1.2990 - 34ms/epoch - 4ms/step\n",
      "Epoch 66/100\n",
      "8/8 - 0s - loss: 3.2323 - mae: 1.2920 - 35ms/epoch - 4ms/step\n",
      "Epoch 67/100\n",
      "8/8 - 0s - loss: 3.1549 - mae: 1.2765 - 35ms/epoch - 4ms/step\n",
      "Epoch 68/100\n",
      "8/8 - 0s - loss: 3.1531 - mae: 1.2922 - 34ms/epoch - 4ms/step\n",
      "Epoch 69/100\n",
      "8/8 - 0s - loss: 3.2647 - mae: 1.3178 - 34ms/epoch - 4ms/step\n",
      "Epoch 70/100\n",
      "8/8 - 0s - loss: 3.1495 - mae: 1.2825 - 35ms/epoch - 4ms/step\n",
      "Epoch 71/100\n",
      "8/8 - 0s - loss: 3.1192 - mae: 1.2708 - 34ms/epoch - 4ms/step\n",
      "Epoch 72/100\n",
      "8/8 - 0s - loss: 3.0703 - mae: 1.2679 - 35ms/epoch - 4ms/step\n",
      "Epoch 73/100\n",
      "8/8 - 0s - loss: 3.0723 - mae: 1.2549 - 35ms/epoch - 4ms/step\n",
      "Epoch 74/100\n",
      "8/8 - 0s - loss: 3.1872 - mae: 1.3124 - 34ms/epoch - 4ms/step\n",
      "Epoch 75/100\n",
      "8/8 - 0s - loss: 3.2120 - mae: 1.2968 - 40ms/epoch - 5ms/step\n",
      "Epoch 76/100\n",
      "8/8 - 0s - loss: 3.1715 - mae: 1.2921 - 38ms/epoch - 5ms/step\n",
      "Epoch 77/100\n",
      "8/8 - 0s - loss: 3.0867 - mae: 1.2685 - 37ms/epoch - 5ms/step\n",
      "Epoch 78/100\n",
      "8/8 - 0s - loss: 3.1373 - mae: 1.2977 - 35ms/epoch - 4ms/step\n",
      "Epoch 79/100\n",
      "8/8 - 0s - loss: 3.0921 - mae: 1.2809 - 37ms/epoch - 5ms/step\n",
      "Epoch 80/100\n",
      "8/8 - 0s - loss: 3.1015 - mae: 1.2607 - 36ms/epoch - 5ms/step\n",
      "Epoch 81/100\n",
      "8/8 - 0s - loss: 3.0405 - mae: 1.2495 - 34ms/epoch - 4ms/step\n",
      "Epoch 82/100\n",
      "8/8 - 0s - loss: 3.0510 - mae: 1.2647 - 50ms/epoch - 6ms/step\n",
      "Epoch 83/100\n",
      "8/8 - 0s - loss: 3.0795 - mae: 1.2841 - 43ms/epoch - 5ms/step\n",
      "Epoch 84/100\n",
      "8/8 - 0s - loss: 3.2403 - mae: 1.3046 - 36ms/epoch - 4ms/step\n",
      "Epoch 85/100\n",
      "8/8 - 0s - loss: 3.1212 - mae: 1.2676 - 33ms/epoch - 4ms/step\n",
      "Epoch 86/100\n",
      "8/8 - 0s - loss: 3.1846 - mae: 1.3088 - 35ms/epoch - 4ms/step\n",
      "Epoch 87/100\n",
      "8/8 - 0s - loss: 3.1786 - mae: 1.2887 - 36ms/epoch - 4ms/step\n",
      "Epoch 88/100\n",
      "8/8 - 0s - loss: 3.1261 - mae: 1.3027 - 36ms/epoch - 4ms/step\n",
      "Epoch 89/100\n",
      "8/8 - 0s - loss: 3.1658 - mae: 1.2816 - 35ms/epoch - 4ms/step\n",
      "Epoch 90/100\n",
      "8/8 - 0s - loss: 3.1031 - mae: 1.2728 - 38ms/epoch - 5ms/step\n",
      "Epoch 91/100\n",
      "8/8 - 0s - loss: 3.0315 - mae: 1.2603 - 37ms/epoch - 5ms/step\n",
      "Epoch 92/100\n",
      "8/8 - 0s - loss: 3.1990 - mae: 1.2863 - 37ms/epoch - 5ms/step\n",
      "Epoch 93/100\n",
      "8/8 - 0s - loss: 3.1489 - mae: 1.2962 - 36ms/epoch - 5ms/step\n",
      "Epoch 94/100\n",
      "8/8 - 0s - loss: 3.1943 - mae: 1.2903 - 35ms/epoch - 4ms/step\n",
      "Epoch 95/100\n",
      "8/8 - 0s - loss: 3.2965 - mae: 1.3451 - 38ms/epoch - 5ms/step\n",
      "Epoch 96/100\n",
      "8/8 - 0s - loss: 3.3887 - mae: 1.3639 - 37ms/epoch - 5ms/step\n",
      "Epoch 97/100\n",
      "8/8 - 0s - loss: 3.0357 - mae: 1.2729 - 36ms/epoch - 4ms/step\n",
      "Epoch 98/100\n",
      "8/8 - 0s - loss: 3.0220 - mae: 1.2400 - 34ms/epoch - 4ms/step\n",
      "Epoch 99/100\n",
      "8/8 - 0s - loss: 3.0520 - mae: 1.2684 - 36ms/epoch - 4ms/step\n",
      "Epoch 100/100\n",
      "8/8 - 0s - loss: 3.1588 - mae: 1.3163 - 36ms/epoch - 4ms/step\n"
     ]
    },
    {
     "data": {
      "text/plain": [
       "<keras.callbacks.History at 0x2b3d958e0>"
      ]
     },
     "execution_count": 85,
     "metadata": {},
     "output_type": "execute_result"
    }
   ],
   "source": [
    "## 공부시키고\n",
    "# epochs: maximum값 몇번 돌리냐,\n",
    "model2.fit(X_data_scaled[:400], y_data[:400], epochs=100, batch_size=50, verbose=2)\n"
   ]
  },
  {
   "cell_type": "code",
   "execution_count": 86,
   "id": "0fa5788f-7be2-4c16-922c-1bc0b28cd646",
   "metadata": {},
   "outputs": [
    {
     "name": "stdout",
     "output_type": "stream",
     "text": [
      "1/4 [======>.......................] - ETA: 0s - loss: 39.9403 - mae: 4.8992"
     ]
    },
    {
     "name": "stderr",
     "output_type": "stream",
     "text": [
      "2022-06-02 18:15:39.113196: I tensorflow/core/grappler/optimizers/custom_graph_optimizer_registry.cc:113] Plugin optimizer for device_type GPU is enabled.\n"
     ]
    },
    {
     "name": "stdout",
     "output_type": "stream",
     "text": [
      "4/4 [==============================] - 0s 58ms/step - loss: 33.2369 - mae: 4.3478\n"
     ]
    },
    {
     "data": {
      "text/plain": [
       "[33.236873626708984, 4.3478193283081055]"
      ]
     },
     "execution_count": 86,
     "metadata": {},
     "output_type": "execute_result"
    }
   ],
   "source": [
    "## 정확도 계산\n",
    "model2.evaluate(X_data_scaled[400:], y_data[400:])"
   ]
  },
  {
   "cell_type": "code",
   "execution_count": null,
   "id": "a73f3d13-0350-4b34-95f7-cd9307b3d130",
   "metadata": {},
   "outputs": [],
   "source": [
    "## 예측"
   ]
  }
 ],
 "metadata": {
  "kernelspec": {
   "display_name": "Python 3 (ipykernel)",
   "language": "python",
   "name": "python3"
  },
  "language_info": {
   "codemirror_mode": {
    "name": "ipython",
    "version": 3
   },
   "file_extension": ".py",
   "mimetype": "text/x-python",
   "name": "python",
   "nbconvert_exporter": "python",
   "pygments_lexer": "ipython3",
   "version": "3.9.10"
  }
 },
 "nbformat": 4,
 "nbformat_minor": 5
}
