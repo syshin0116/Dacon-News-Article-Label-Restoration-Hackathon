{
 "cells": [
  {
   "cell_type": "code",
   "execution_count": 9,
   "id": "d5a0b8a8-1ce4-49ea-b732-dd578da0be06",
   "metadata": {},
   "outputs": [],
   "source": [
    "import re\n",
    "import pandas as pd\n",
    "import numpy as np\n",
    "import torch\n",
    "from transformers import DebertaTokenizer, DebertaModel\n",
    "from sklearn.cluster import KMeans\n",
    "import random\n",
    "from tqdm.auto import tqdm\n"
   ]
  },
  {
   "cell_type": "code",
   "execution_count": 2,
   "id": "5d25ba85-c46d-4ebb-ba70-9ff09e2b7633",
   "metadata": {},
   "outputs": [],
   "source": [
    "# Seed 설정\n",
    "SEED = 0\n",
    "np.random.seed(SEED)\n",
    "random.seed(SEED)"
   ]
  },
  {
   "cell_type": "code",
   "execution_count": 3,
   "id": "e7bd3363-4f60-418a-91d8-63ca106b9ce0",
   "metadata": {},
   "outputs": [],
   "source": [
    "# 데이터 로드\n",
    "df = pd.read_csv('./data/news.csv')\n",
    "\n",
    "# 제목과 내용 결합\n",
    "df['text'] = df['title'] + ' : ' + df['contents']"
   ]
  },
  {
   "cell_type": "code",
   "execution_count": 4,
   "id": "343905bc-16cd-4804-abc8-e038f2a2ca05",
   "metadata": {},
   "outputs": [],
   "source": [
    "# 텍스트 전처리\n",
    "def preprocess_text(text):\n",
    "    text = re.sub(r'http\\S+|www\\S+|https\\S+', '', text, flags=re.MULTILINE)\n",
    "    text = re.sub(r'#\\w+', '', text)\n",
    "    text = re.sub(r'@\\w+', '', text)\n",
    "    text = text.encode('ascii', 'ignore').decode('ascii')\n",
    "    text = re.sub(r'\\s+', ' ', text).strip()\n",
    "    text = re.sub(r'\\d+', '', text)\n",
    "    return text.lower()\n",
    "\n",
    "df['processed_text'] = df['text'].apply(preprocess_text)"
   ]
  },
  {
   "cell_type": "code",
   "execution_count": 5,
   "id": "7dce42ff-9129-4cef-b9a7-5c98c70243ee",
   "metadata": {},
   "outputs": [],
   "source": [
    "# DeBERTa 모델과 토크나이저 로드\n",
    "device = torch.device(\"mps\" if torch.backends.mps.is_available() else \"cpu\")\n",
    "tokenizer = DebertaTokenizer.from_pretrained('microsoft/deberta-base')\n",
    "model = DebertaModel.from_pretrained('microsoft/deberta-base').to(device)"
   ]
  },
  {
   "cell_type": "code",
   "execution_count": 10,
   "id": "0c713b8b-e2e6-4f8c-925e-a337b63c45fc",
   "metadata": {},
   "outputs": [
    {
     "data": {
      "application/vnd.jupyter.widget-view+json": {
       "model_id": "1858e59e79ca40a8a3cdbe597523143c",
       "version_major": 2,
       "version_minor": 0
      },
      "text/plain": [
       "Extracting Features:   0%|          | 0/1875 [00:00<?, ?it/s]"
      ]
     },
     "metadata": {},
     "output_type": "display_data"
    },
    {
     "name": "stderr",
     "output_type": "stream",
     "text": [
      "/Users/syshin/miniforge3/envs/pytorch/lib/python3.10/site-packages/sklearn/cluster/_kmeans.py:1416: FutureWarning: The default value of `n_init` will change from 10 to 'auto' in 1.4. Set the value of `n_init` explicitly to suppress the warning\n",
      "  super()._check_params_vs_input(X, default_n_init=10)\n"
     ]
    }
   ],
   "source": [
    "# 텍스트 데이터를 배치로 처리하여 특성 추출\n",
    "batch_size = 32\n",
    "all_embeddings = []\n",
    "texts = df['processed_text'].tolist()\n",
    "\n",
    "# tqdm을 for loop에 적용\n",
    "for i in tqdm(range(0, len(texts), batch_size), desc=\"Extracting Features\"):\n",
    "    batch_texts = texts[i:i + batch_size]\n",
    "    input_ids = tokenizer(batch_texts, return_tensors='pt', padding=True, truncation=True, max_length=256).to(device)\n",
    "    with torch.no_grad():\n",
    "        outputs = model(**input_ids)\n",
    "        embeddings = outputs.last_hidden_state.mean(dim=1).cpu()\n",
    "        all_embeddings.append(embeddings)\n",
    "\n",
    "# 모든 임베딩을 연결\n",
    "all_embeddings = torch.cat(all_embeddings, dim=0)\n",
    "\n",
    "# K-Means 군집화 수행\n",
    "kmeans = KMeans(n_clusters=6, random_state=SEED)\n",
    "df['kmeans_cluster'] = kmeans.fit_predict(all_embeddings.numpy())\n"
   ]
  },
  {
   "cell_type": "code",
   "execution_count": null,
   "id": "6835151c-3489-40d7-a34b-3b1632e13f95",
   "metadata": {},
   "outputs": [],
   "source": [
    "# 각 클러스터에 대해 처음 3개의 텍스트를 출력합니다.\n",
    "for cluster in range(6):\n",
    "    print(f\"Cluster {cluster}:\")\n",
    "    texts = df[df['kmeans_cluster'] == cluster]['text'].head(3).tolist()\n",
    "    for text in texts:\n",
    "        print(text)\n",
    "    print()\n"
   ]
  },
  {
   "cell_type": "code",
   "execution_count": null,
   "id": "bab26d96-002a-42ac-b88f-6122b8497529",
   "metadata": {},
   "outputs": [],
   "source": [
    "# 군집에 카테고리 레이블 매핑 및 제출 파일 생성\n",
    "mapping_dict = {\n",
    "    0: 4,  # Tech\n",
    "    1: 2,  # Politics\n",
    "    2: 1,  # Entertainment\n",
    "    3: 0,  # Business\n",
    "    4: 5,  # World\n",
    "    5: 3   # Sports\n",
    "}\n",
    "\n",
    "df['mapping'] = df['kmeans_cluster'].apply(lambda x: mapping_dict[x])"
   ]
  },
  {
   "cell_type": "code",
   "execution_count": null,
   "id": "bec5572e-761a-44c6-bdeb-2b2401f38dbc",
   "metadata": {},
   "outputs": [],
   "source": [
    "df['mapping'] = df['kmeans_cluster'].apply(lambda x: mapping_dict[x])\n",
    "submission = df[['id', 'mapping']]\n",
    "submission.columns = ['id', 'category']"
   ]
  },
  {
   "cell_type": "code",
   "execution_count": null,
   "id": "c4e0ccae-3b36-46ff-aba2-cca9afde10d7",
   "metadata": {},
   "outputs": [],
   "source": [
    "submission.to_csv('./submissions/DeBerTa_submissions.csv', index=False)\n",
    "\n",
    "print(\"Submission file saved as DeBerTa_submission.csv\")"
   ]
  },
  {
   "cell_type": "code",
   "execution_count": null,
   "id": "d6a5bfa6-738b-431e-b903-7447f9fd9d09",
   "metadata": {},
   "outputs": [],
   "source": [
    "df"
   ]
  },
  {
   "cell_type": "code",
   "execution_count": null,
   "id": "5216e8d5-615e-409e-98a0-ee18c2816cfe",
   "metadata": {},
   "outputs": [],
   "source": []
  }
 ],
 "metadata": {
  "kernelspec": {
   "display_name": "Python 3.10(pytorch)",
   "language": "python",
   "name": "pytorch"
  },
  "language_info": {
   "codemirror_mode": {
    "name": "ipython",
    "version": 3
   },
   "file_extension": ".py",
   "mimetype": "text/x-python",
   "name": "python",
   "nbconvert_exporter": "python",
   "pygments_lexer": "ipython3",
   "version": "3.10.12"
  }
 },
 "nbformat": 4,
 "nbformat_minor": 5
}
