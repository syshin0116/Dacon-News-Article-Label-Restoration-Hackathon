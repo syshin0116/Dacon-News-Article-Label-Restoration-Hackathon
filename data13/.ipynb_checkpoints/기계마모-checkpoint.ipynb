{
 "cells": [
  {
   "cell_type": "code",
   "execution_count": 321,
   "id": "f4171b08-b860-44e6-9008-ab66d9006d00",
   "metadata": {},
   "outputs": [],
   "source": [
    "import time\n",
    "from IPython.display import Image\n",
    "import pandas as pd\n",
    "import numpy as np\n",
    "import matplotlib.pyplot as plt\n",
    "import seaborn as sns\n",
    "import pickle\n",
    "from sklearn.preprocessing import LabelEncoder\n",
    "from sklearn.model_selection import train_test_split\n",
    "from sklearn.model_selection import KFold\n",
    "from sklearn.tree import DecisionTreeClassifier\n",
    "from sklearn.ensemble import RandomForestClassifier\n",
    "from sklearn.neighbors import KNeighborsClassifier\n",
    "from sklearn.naive_bayes import GaussianNB\n",
    "from xgboost import XGBClassifier\n",
    "from sklearn.linear_model import LogisticRegression\n",
    "from sklearn.svm import SVC\n",
    "from sklearn.metrics import accuracy_score\n",
    "\n",
    "from sklearn.model_selection import GridSearchCV\n",
    "from sklearn.model_selection import cross_val_score\n",
    "from sklearn.model_selection import cross_val_predict\n",
    "from pandas.plotting import parallel_coordinates\n",
    "import warnings\n",
    "warnings.filterwarnings('ignore')\n",
    "from sklearn.preprocessing import StandardScaler # 표준화(평균을 기준)\n",
    "from sklearn.preprocessing import MinMaxScaler # 정규화(정해진 규칙 기준, mix-max기준)\n",
    "from sklearn.datasets import load_iris\n",
    "# cross_val_score: 다양한 샘플링으 ㄹ해서 여러번 테스트 --> 평균치를 구해본다.!\n",
    "from sklearn.metrics import *\n",
    "from sklearn.metrics import roc_curve, roc_auc_score\n",
    "from sklearn.preprocessing import LabelEncoder\n",
    "\n",
    "\n",
    "%matplotlib inline\n",
    "\n",
    "# 주요 라이브러리 import\n",
    "\n",
    "from matplotlib import rc, font_manager\n",
    "import matplotlib.font_manager as fm\n",
    "\n",
    "\n",
    "# 디렉토리 및 파일 이름에 맞추어 변경\n",
    "font_location = 'C:/Users/hi/Himedia_jupyter/NanumGothic.ttf'\n",
    "font_name = fm.FontProperties(fname=font_location).get_name()\n",
    "rc('font', family=font_name)\n",
    "import scipy.io as spio\n",
    "\n",
    "from pandas.plotting import parallel_coordinates"
   ]
  },
  {
   "cell_type": "code",
   "execution_count": 322,
   "id": "8395dc4e-1419-4023-b09d-c0d1f929c95e",
   "metadata": {},
   "outputs": [
    {
     "data": {
      "text/plain": [
       "Product ID                 0\n",
       "Type                       0\n",
       "Air temperature [K]        0\n",
       "Process temperature [K]    0\n",
       "Rotational speed [rpm]     0\n",
       "Torque [Nm]                0\n",
       "Tool wear [min]            0\n",
       "Target                     0\n",
       "Failure Type               0\n",
       "dtype: int64"
      ]
     },
     "execution_count": 322,
     "metadata": {},
     "output_type": "execute_result"
    }
   ],
   "source": [
    "df = pd.read_csv('../csv-data/predictive_maintenance.csv')\n",
    "df.set_index('UDI', inplace=True)\n",
    "df.isna().sum()"
   ]
  },
  {
   "cell_type": "code",
   "execution_count": 348,
   "id": "68a4535b-8b69-4954-a5b2-2e6a35da74a7",
   "metadata": {},
   "outputs": [
    {
     "data": {
      "text/html": [
       "<div>\n",
       "<style scoped>\n",
       "    .dataframe tbody tr th:only-of-type {\n",
       "        vertical-align: middle;\n",
       "    }\n",
       "\n",
       "    .dataframe tbody tr th {\n",
       "        vertical-align: top;\n",
       "    }\n",
       "\n",
       "    .dataframe thead th {\n",
       "        text-align: right;\n",
       "    }\n",
       "</style>\n",
       "<table border=\"1\" class=\"dataframe\">\n",
       "  <thead>\n",
       "    <tr style=\"text-align: right;\">\n",
       "      <th></th>\n",
       "      <th>Air temperature [K]</th>\n",
       "      <th>Process temperature [K]</th>\n",
       "      <th>Rotational speed [rpm]</th>\n",
       "      <th>Torque [Nm]</th>\n",
       "      <th>Tool wear [min]</th>\n",
       "      <th>Target</th>\n",
       "      <th>Type_H</th>\n",
       "      <th>Type_L</th>\n",
       "      <th>Type_M</th>\n",
       "    </tr>\n",
       "    <tr>\n",
       "      <th>UDI</th>\n",
       "      <th></th>\n",
       "      <th></th>\n",
       "      <th></th>\n",
       "      <th></th>\n",
       "      <th></th>\n",
       "      <th></th>\n",
       "      <th></th>\n",
       "      <th></th>\n",
       "      <th></th>\n",
       "    </tr>\n",
       "  </thead>\n",
       "  <tbody>\n",
       "    <tr>\n",
       "      <th>1</th>\n",
       "      <td>298.1</td>\n",
       "      <td>308.6</td>\n",
       "      <td>1551</td>\n",
       "      <td>42.8</td>\n",
       "      <td>0</td>\n",
       "      <td>0</td>\n",
       "      <td>0</td>\n",
       "      <td>0</td>\n",
       "      <td>1</td>\n",
       "    </tr>\n",
       "    <tr>\n",
       "      <th>2</th>\n",
       "      <td>298.2</td>\n",
       "      <td>308.7</td>\n",
       "      <td>1408</td>\n",
       "      <td>46.3</td>\n",
       "      <td>3</td>\n",
       "      <td>0</td>\n",
       "      <td>0</td>\n",
       "      <td>1</td>\n",
       "      <td>0</td>\n",
       "    </tr>\n",
       "    <tr>\n",
       "      <th>3</th>\n",
       "      <td>298.1</td>\n",
       "      <td>308.5</td>\n",
       "      <td>1498</td>\n",
       "      <td>49.4</td>\n",
       "      <td>5</td>\n",
       "      <td>0</td>\n",
       "      <td>0</td>\n",
       "      <td>1</td>\n",
       "      <td>0</td>\n",
       "    </tr>\n",
       "    <tr>\n",
       "      <th>4</th>\n",
       "      <td>298.2</td>\n",
       "      <td>308.6</td>\n",
       "      <td>1433</td>\n",
       "      <td>39.5</td>\n",
       "      <td>7</td>\n",
       "      <td>0</td>\n",
       "      <td>0</td>\n",
       "      <td>1</td>\n",
       "      <td>0</td>\n",
       "    </tr>\n",
       "    <tr>\n",
       "      <th>5</th>\n",
       "      <td>298.2</td>\n",
       "      <td>308.7</td>\n",
       "      <td>1408</td>\n",
       "      <td>40.0</td>\n",
       "      <td>9</td>\n",
       "      <td>0</td>\n",
       "      <td>0</td>\n",
       "      <td>1</td>\n",
       "      <td>0</td>\n",
       "    </tr>\n",
       "    <tr>\n",
       "      <th>...</th>\n",
       "      <td>...</td>\n",
       "      <td>...</td>\n",
       "      <td>...</td>\n",
       "      <td>...</td>\n",
       "      <td>...</td>\n",
       "      <td>...</td>\n",
       "      <td>...</td>\n",
       "      <td>...</td>\n",
       "      <td>...</td>\n",
       "    </tr>\n",
       "    <tr>\n",
       "      <th>9996</th>\n",
       "      <td>298.8</td>\n",
       "      <td>308.4</td>\n",
       "      <td>1604</td>\n",
       "      <td>29.5</td>\n",
       "      <td>14</td>\n",
       "      <td>0</td>\n",
       "      <td>0</td>\n",
       "      <td>0</td>\n",
       "      <td>1</td>\n",
       "    </tr>\n",
       "    <tr>\n",
       "      <th>9997</th>\n",
       "      <td>298.9</td>\n",
       "      <td>308.4</td>\n",
       "      <td>1632</td>\n",
       "      <td>31.8</td>\n",
       "      <td>17</td>\n",
       "      <td>0</td>\n",
       "      <td>1</td>\n",
       "      <td>0</td>\n",
       "      <td>0</td>\n",
       "    </tr>\n",
       "    <tr>\n",
       "      <th>9998</th>\n",
       "      <td>299.0</td>\n",
       "      <td>308.6</td>\n",
       "      <td>1645</td>\n",
       "      <td>33.4</td>\n",
       "      <td>22</td>\n",
       "      <td>0</td>\n",
       "      <td>0</td>\n",
       "      <td>0</td>\n",
       "      <td>1</td>\n",
       "    </tr>\n",
       "    <tr>\n",
       "      <th>9999</th>\n",
       "      <td>299.0</td>\n",
       "      <td>308.7</td>\n",
       "      <td>1408</td>\n",
       "      <td>48.5</td>\n",
       "      <td>25</td>\n",
       "      <td>0</td>\n",
       "      <td>1</td>\n",
       "      <td>0</td>\n",
       "      <td>0</td>\n",
       "    </tr>\n",
       "    <tr>\n",
       "      <th>10000</th>\n",
       "      <td>299.0</td>\n",
       "      <td>308.7</td>\n",
       "      <td>1500</td>\n",
       "      <td>40.2</td>\n",
       "      <td>30</td>\n",
       "      <td>0</td>\n",
       "      <td>0</td>\n",
       "      <td>0</td>\n",
       "      <td>1</td>\n",
       "    </tr>\n",
       "  </tbody>\n",
       "</table>\n",
       "<p>10000 rows × 9 columns</p>\n",
       "</div>"
      ],
      "text/plain": [
       "       Air temperature [K]  Process temperature [K]  Rotational speed [rpm]  \\\n",
       "UDI                                                                           \n",
       "1                    298.1                    308.6                    1551   \n",
       "2                    298.2                    308.7                    1408   \n",
       "3                    298.1                    308.5                    1498   \n",
       "4                    298.2                    308.6                    1433   \n",
       "5                    298.2                    308.7                    1408   \n",
       "...                    ...                      ...                     ...   \n",
       "9996                 298.8                    308.4                    1604   \n",
       "9997                 298.9                    308.4                    1632   \n",
       "9998                 299.0                    308.6                    1645   \n",
       "9999                 299.0                    308.7                    1408   \n",
       "10000                299.0                    308.7                    1500   \n",
       "\n",
       "       Torque [Nm]  Tool wear [min]  Target  Type_H  Type_L  Type_M  \n",
       "UDI                                                                  \n",
       "1             42.8                0       0       0       0       1  \n",
       "2             46.3                3       0       0       1       0  \n",
       "3             49.4                5       0       0       1       0  \n",
       "4             39.5                7       0       0       1       0  \n",
       "5             40.0                9       0       0       1       0  \n",
       "...            ...              ...     ...     ...     ...     ...  \n",
       "9996          29.5               14       0       0       0       1  \n",
       "9997          31.8               17       0       1       0       0  \n",
       "9998          33.4               22       0       0       0       1  \n",
       "9999          48.5               25       0       1       0       0  \n",
       "10000         40.2               30       0       0       0       1  \n",
       "\n",
       "[10000 rows x 9 columns]"
      ]
     },
     "execution_count": 348,
     "metadata": {},
     "output_type": "execute_result"
    }
   ],
   "source": [
    "df"
   ]
  },
  {
   "cell_type": "code",
   "execution_count": 323,
   "id": "bd8a14c2-c08d-47f6-b2a5-b7c2cd511057",
   "metadata": {},
   "outputs": [
    {
     "data": {
      "text/html": [
       "<div>\n",
       "<style scoped>\n",
       "    .dataframe tbody tr th:only-of-type {\n",
       "        vertical-align: middle;\n",
       "    }\n",
       "\n",
       "    .dataframe tbody tr th {\n",
       "        vertical-align: top;\n",
       "    }\n",
       "\n",
       "    .dataframe thead th {\n",
       "        text-align: right;\n",
       "    }\n",
       "</style>\n",
       "<table border=\"1\" class=\"dataframe\">\n",
       "  <thead>\n",
       "    <tr style=\"text-align: right;\">\n",
       "      <th></th>\n",
       "      <th>Air temperature [K]</th>\n",
       "      <th>Process temperature [K]</th>\n",
       "      <th>Rotational speed [rpm]</th>\n",
       "      <th>Torque [Nm]</th>\n",
       "      <th>Tool wear [min]</th>\n",
       "      <th>Target</th>\n",
       "    </tr>\n",
       "  </thead>\n",
       "  <tbody>\n",
       "    <tr>\n",
       "      <th>Air temperature [K]</th>\n",
       "      <td>1.000000</td>\n",
       "      <td>0.876107</td>\n",
       "      <td>0.022670</td>\n",
       "      <td>-0.013778</td>\n",
       "      <td>0.013853</td>\n",
       "      <td>0.082556</td>\n",
       "    </tr>\n",
       "    <tr>\n",
       "      <th>Process temperature [K]</th>\n",
       "      <td>0.876107</td>\n",
       "      <td>1.000000</td>\n",
       "      <td>0.019277</td>\n",
       "      <td>-0.014061</td>\n",
       "      <td>0.013488</td>\n",
       "      <td>0.035946</td>\n",
       "    </tr>\n",
       "    <tr>\n",
       "      <th>Rotational speed [rpm]</th>\n",
       "      <td>0.022670</td>\n",
       "      <td>0.019277</td>\n",
       "      <td>1.000000</td>\n",
       "      <td>-0.875027</td>\n",
       "      <td>0.000223</td>\n",
       "      <td>-0.044188</td>\n",
       "    </tr>\n",
       "    <tr>\n",
       "      <th>Torque [Nm]</th>\n",
       "      <td>-0.013778</td>\n",
       "      <td>-0.014061</td>\n",
       "      <td>-0.875027</td>\n",
       "      <td>1.000000</td>\n",
       "      <td>-0.003093</td>\n",
       "      <td>0.191321</td>\n",
       "    </tr>\n",
       "    <tr>\n",
       "      <th>Tool wear [min]</th>\n",
       "      <td>0.013853</td>\n",
       "      <td>0.013488</td>\n",
       "      <td>0.000223</td>\n",
       "      <td>-0.003093</td>\n",
       "      <td>1.000000</td>\n",
       "      <td>0.105448</td>\n",
       "    </tr>\n",
       "    <tr>\n",
       "      <th>Target</th>\n",
       "      <td>0.082556</td>\n",
       "      <td>0.035946</td>\n",
       "      <td>-0.044188</td>\n",
       "      <td>0.191321</td>\n",
       "      <td>0.105448</td>\n",
       "      <td>1.000000</td>\n",
       "    </tr>\n",
       "  </tbody>\n",
       "</table>\n",
       "</div>"
      ],
      "text/plain": [
       "                         Air temperature [K]  Process temperature [K]  \\\n",
       "Air temperature [K]                 1.000000                 0.876107   \n",
       "Process temperature [K]             0.876107                 1.000000   \n",
       "Rotational speed [rpm]              0.022670                 0.019277   \n",
       "Torque [Nm]                        -0.013778                -0.014061   \n",
       "Tool wear [min]                     0.013853                 0.013488   \n",
       "Target                              0.082556                 0.035946   \n",
       "\n",
       "                         Rotational speed [rpm]  Torque [Nm]  Tool wear [min]  \\\n",
       "Air temperature [K]                    0.022670    -0.013778         0.013853   \n",
       "Process temperature [K]                0.019277    -0.014061         0.013488   \n",
       "Rotational speed [rpm]                 1.000000    -0.875027         0.000223   \n",
       "Torque [Nm]                           -0.875027     1.000000        -0.003093   \n",
       "Tool wear [min]                        0.000223    -0.003093         1.000000   \n",
       "Target                                -0.044188     0.191321         0.105448   \n",
       "\n",
       "                           Target  \n",
       "Air temperature [K]      0.082556  \n",
       "Process temperature [K]  0.035946  \n",
       "Rotational speed [rpm]  -0.044188  \n",
       "Torque [Nm]              0.191321  \n",
       "Tool wear [min]          0.105448  \n",
       "Target                   1.000000  "
      ]
     },
     "execution_count": 323,
     "metadata": {},
     "output_type": "execute_result"
    }
   ],
   "source": [
    "df.corr()"
   ]
  },
  {
   "cell_type": "code",
   "execution_count": 324,
   "id": "ef840562-bbf5-475d-8b00-ee01cc5d4fe9",
   "metadata": {},
   "outputs": [
    {
     "data": {
      "text/plain": [
       "No Failure                  9652\n",
       "Heat Dissipation Failure     112\n",
       "Power Failure                 95\n",
       "Overstrain Failure            78\n",
       "Tool Wear Failure             45\n",
       "Random Failures               18\n",
       "Name: Failure Type, dtype: int64"
      ]
     },
     "execution_count": 324,
     "metadata": {},
     "output_type": "execute_result"
    }
   ],
   "source": [
    "df['Failure Type'].value_counts()"
   ]
  },
  {
   "cell_type": "code",
   "execution_count": 325,
   "id": "9501d21f-89d4-4774-aaf7-c220aab79ab8",
   "metadata": {},
   "outputs": [
    {
     "data": {
      "text/plain": [
       "0    9661\n",
       "1     339\n",
       "Name: Target, dtype: int64"
      ]
     },
     "execution_count": 325,
     "metadata": {},
     "output_type": "execute_result"
    }
   ],
   "source": [
    "df['Target'].value_counts()"
   ]
  },
  {
   "cell_type": "code",
   "execution_count": 326,
   "id": "a35918cb-e2bd-4530-b278-c173c0c4f9da",
   "metadata": {},
   "outputs": [
    {
     "name": "stdout",
     "output_type": "stream",
     "text": [
      "<class 'pandas.core.frame.DataFrame'>\n",
      "Int64Index: 10000 entries, 1 to 10000\n",
      "Data columns (total 9 columns):\n",
      " #   Column                   Non-Null Count  Dtype   \n",
      "---  ------                   --------------  -----   \n",
      " 0   Product ID               10000 non-null  object  \n",
      " 1   Type                     10000 non-null  category\n",
      " 2   Air temperature [K]      10000 non-null  float64 \n",
      " 3   Process temperature [K]  10000 non-null  float64 \n",
      " 4   Rotational speed [rpm]   10000 non-null  int64   \n",
      " 5   Torque [Nm]              10000 non-null  float64 \n",
      " 6   Tool wear [min]          10000 non-null  int64   \n",
      " 7   Target                   10000 non-null  int64   \n",
      " 8   Failure Type             10000 non-null  category\n",
      "dtypes: category(2), float64(3), int64(3), object(1)\n",
      "memory usage: 644.9+ KB\n"
     ]
    }
   ],
   "source": [
    "df['Type'] = df['Type'].astype('category')\n",
    "df['Failure Type'] = df['Failure Type'].astype('category')\n",
    "df.info()"
   ]
  },
  {
   "cell_type": "code",
   "execution_count": 327,
   "id": "83b96545-eaaa-40fa-a38d-2ea60dca1703",
   "metadata": {},
   "outputs": [
    {
     "data": {
      "text/plain": [
       "Product ID                 0\n",
       "Type                       0\n",
       "Air temperature [K]        0\n",
       "Process temperature [K]    0\n",
       "Rotational speed [rpm]     0\n",
       "Torque [Nm]                0\n",
       "Tool wear [min]            0\n",
       "Target                     0\n",
       "Failure Type               0\n",
       "dtype: int64"
      ]
     },
     "execution_count": 327,
     "metadata": {},
     "output_type": "execute_result"
    }
   ],
   "source": [
    "df.isna().sum()"
   ]
  },
  {
   "cell_type": "code",
   "execution_count": 328,
   "id": "a204e170-03c9-4ad4-b796-fcd1891936c6",
   "metadata": {},
   "outputs": [
    {
     "data": {
      "text/plain": [
       "Index(['Product ID', 'Type', 'Air temperature [K]', 'Process temperature [K]',\n",
       "       'Rotational speed [rpm]', 'Torque [Nm]', 'Tool wear [min]', 'Target',\n",
       "       'Failure Type'],\n",
       "      dtype='object')"
      ]
     },
     "execution_count": 328,
     "metadata": {},
     "output_type": "execute_result"
    }
   ],
   "source": [
    "df.columns"
   ]
  },
  {
   "cell_type": "code",
   "execution_count": 329,
   "id": "cba6da90-4f7c-4819-a156-1a349b5812c2",
   "metadata": {},
   "outputs": [],
   "source": [
    "df = df[['Type', 'Air temperature [K]','Process temperature [K]', 'Rotational speed [rpm]', 'Torque [Nm]', 'Tool wear [min]', 'Target']]\n",
    "df = pd.get_dummies(df)"
   ]
  },
  {
   "cell_type": "code",
   "execution_count": 330,
   "id": "87fd5bce-2452-4a7d-b178-f40b567d9e55",
   "metadata": {},
   "outputs": [
    {
     "data": {
      "text/html": [
       "<div>\n",
       "<style scoped>\n",
       "    .dataframe tbody tr th:only-of-type {\n",
       "        vertical-align: middle;\n",
       "    }\n",
       "\n",
       "    .dataframe tbody tr th {\n",
       "        vertical-align: top;\n",
       "    }\n",
       "\n",
       "    .dataframe thead th {\n",
       "        text-align: right;\n",
       "    }\n",
       "</style>\n",
       "<table border=\"1\" class=\"dataframe\">\n",
       "  <thead>\n",
       "    <tr style=\"text-align: right;\">\n",
       "      <th></th>\n",
       "      <th>Air temperature [K]</th>\n",
       "      <th>Process temperature [K]</th>\n",
       "      <th>Rotational speed [rpm]</th>\n",
       "      <th>Torque [Nm]</th>\n",
       "      <th>Tool wear [min]</th>\n",
       "      <th>Target</th>\n",
       "      <th>Type_H</th>\n",
       "      <th>Type_L</th>\n",
       "      <th>Type_M</th>\n",
       "    </tr>\n",
       "    <tr>\n",
       "      <th>UDI</th>\n",
       "      <th></th>\n",
       "      <th></th>\n",
       "      <th></th>\n",
       "      <th></th>\n",
       "      <th></th>\n",
       "      <th></th>\n",
       "      <th></th>\n",
       "      <th></th>\n",
       "      <th></th>\n",
       "    </tr>\n",
       "  </thead>\n",
       "  <tbody>\n",
       "    <tr>\n",
       "      <th>1</th>\n",
       "      <td>298.1</td>\n",
       "      <td>308.6</td>\n",
       "      <td>1551</td>\n",
       "      <td>42.8</td>\n",
       "      <td>0</td>\n",
       "      <td>0</td>\n",
       "      <td>0</td>\n",
       "      <td>0</td>\n",
       "      <td>1</td>\n",
       "    </tr>\n",
       "    <tr>\n",
       "      <th>2</th>\n",
       "      <td>298.2</td>\n",
       "      <td>308.7</td>\n",
       "      <td>1408</td>\n",
       "      <td>46.3</td>\n",
       "      <td>3</td>\n",
       "      <td>0</td>\n",
       "      <td>0</td>\n",
       "      <td>1</td>\n",
       "      <td>0</td>\n",
       "    </tr>\n",
       "    <tr>\n",
       "      <th>3</th>\n",
       "      <td>298.1</td>\n",
       "      <td>308.5</td>\n",
       "      <td>1498</td>\n",
       "      <td>49.4</td>\n",
       "      <td>5</td>\n",
       "      <td>0</td>\n",
       "      <td>0</td>\n",
       "      <td>1</td>\n",
       "      <td>0</td>\n",
       "    </tr>\n",
       "    <tr>\n",
       "      <th>4</th>\n",
       "      <td>298.2</td>\n",
       "      <td>308.6</td>\n",
       "      <td>1433</td>\n",
       "      <td>39.5</td>\n",
       "      <td>7</td>\n",
       "      <td>0</td>\n",
       "      <td>0</td>\n",
       "      <td>1</td>\n",
       "      <td>0</td>\n",
       "    </tr>\n",
       "    <tr>\n",
       "      <th>5</th>\n",
       "      <td>298.2</td>\n",
       "      <td>308.7</td>\n",
       "      <td>1408</td>\n",
       "      <td>40.0</td>\n",
       "      <td>9</td>\n",
       "      <td>0</td>\n",
       "      <td>0</td>\n",
       "      <td>1</td>\n",
       "      <td>0</td>\n",
       "    </tr>\n",
       "    <tr>\n",
       "      <th>...</th>\n",
       "      <td>...</td>\n",
       "      <td>...</td>\n",
       "      <td>...</td>\n",
       "      <td>...</td>\n",
       "      <td>...</td>\n",
       "      <td>...</td>\n",
       "      <td>...</td>\n",
       "      <td>...</td>\n",
       "      <td>...</td>\n",
       "    </tr>\n",
       "    <tr>\n",
       "      <th>9996</th>\n",
       "      <td>298.8</td>\n",
       "      <td>308.4</td>\n",
       "      <td>1604</td>\n",
       "      <td>29.5</td>\n",
       "      <td>14</td>\n",
       "      <td>0</td>\n",
       "      <td>0</td>\n",
       "      <td>0</td>\n",
       "      <td>1</td>\n",
       "    </tr>\n",
       "    <tr>\n",
       "      <th>9997</th>\n",
       "      <td>298.9</td>\n",
       "      <td>308.4</td>\n",
       "      <td>1632</td>\n",
       "      <td>31.8</td>\n",
       "      <td>17</td>\n",
       "      <td>0</td>\n",
       "      <td>1</td>\n",
       "      <td>0</td>\n",
       "      <td>0</td>\n",
       "    </tr>\n",
       "    <tr>\n",
       "      <th>9998</th>\n",
       "      <td>299.0</td>\n",
       "      <td>308.6</td>\n",
       "      <td>1645</td>\n",
       "      <td>33.4</td>\n",
       "      <td>22</td>\n",
       "      <td>0</td>\n",
       "      <td>0</td>\n",
       "      <td>0</td>\n",
       "      <td>1</td>\n",
       "    </tr>\n",
       "    <tr>\n",
       "      <th>9999</th>\n",
       "      <td>299.0</td>\n",
       "      <td>308.7</td>\n",
       "      <td>1408</td>\n",
       "      <td>48.5</td>\n",
       "      <td>25</td>\n",
       "      <td>0</td>\n",
       "      <td>1</td>\n",
       "      <td>0</td>\n",
       "      <td>0</td>\n",
       "    </tr>\n",
       "    <tr>\n",
       "      <th>10000</th>\n",
       "      <td>299.0</td>\n",
       "      <td>308.7</td>\n",
       "      <td>1500</td>\n",
       "      <td>40.2</td>\n",
       "      <td>30</td>\n",
       "      <td>0</td>\n",
       "      <td>0</td>\n",
       "      <td>0</td>\n",
       "      <td>1</td>\n",
       "    </tr>\n",
       "  </tbody>\n",
       "</table>\n",
       "<p>10000 rows × 9 columns</p>\n",
       "</div>"
      ],
      "text/plain": [
       "       Air temperature [K]  Process temperature [K]  Rotational speed [rpm]  \\\n",
       "UDI                                                                           \n",
       "1                    298.1                    308.6                    1551   \n",
       "2                    298.2                    308.7                    1408   \n",
       "3                    298.1                    308.5                    1498   \n",
       "4                    298.2                    308.6                    1433   \n",
       "5                    298.2                    308.7                    1408   \n",
       "...                    ...                      ...                     ...   \n",
       "9996                 298.8                    308.4                    1604   \n",
       "9997                 298.9                    308.4                    1632   \n",
       "9998                 299.0                    308.6                    1645   \n",
       "9999                 299.0                    308.7                    1408   \n",
       "10000                299.0                    308.7                    1500   \n",
       "\n",
       "       Torque [Nm]  Tool wear [min]  Target  Type_H  Type_L  Type_M  \n",
       "UDI                                                                  \n",
       "1             42.8                0       0       0       0       1  \n",
       "2             46.3                3       0       0       1       0  \n",
       "3             49.4                5       0       0       1       0  \n",
       "4             39.5                7       0       0       1       0  \n",
       "5             40.0                9       0       0       1       0  \n",
       "...            ...              ...     ...     ...     ...     ...  \n",
       "9996          29.5               14       0       0       0       1  \n",
       "9997          31.8               17       0       1       0       0  \n",
       "9998          33.4               22       0       0       0       1  \n",
       "9999          48.5               25       0       1       0       0  \n",
       "10000         40.2               30       0       0       0       1  \n",
       "\n",
       "[10000 rows x 9 columns]"
      ]
     },
     "execution_count": 330,
     "metadata": {},
     "output_type": "execute_result"
    }
   ],
   "source": [
    "df"
   ]
  },
  {
   "cell_type": "code",
   "execution_count": 331,
   "id": "9a63893c-e750-4fec-b909-e0f57936ba7d",
   "metadata": {},
   "outputs": [
    {
     "data": {
      "text/plain": [
       "Index(['Air temperature [K]', 'Process temperature [K]',\n",
       "       'Rotational speed [rpm]', 'Torque [Nm]', 'Tool wear [min]', 'Target',\n",
       "       'Type_H', 'Type_L', 'Type_M'],\n",
       "      dtype='object')"
      ]
     },
     "execution_count": 331,
     "metadata": {},
     "output_type": "execute_result"
    }
   ],
   "source": [
    "df.columns"
   ]
  },
  {
   "cell_type": "code",
   "execution_count": 332,
   "id": "1d26b58b-399c-4b8a-a3c4-940fd5118f26",
   "metadata": {},
   "outputs": [],
   "source": [
    "data = ['Air temperature [K]', 'Process temperature [K]', 'Rotational speed [rpm]', 'Torque [Nm]', 'Tool wear [min]', 'Type_H', 'Type_L', 'Type_M']\n",
    "target = 'Target'"
   ]
  },
  {
   "cell_type": "code",
   "execution_count": 333,
   "id": "d2849abb-cb47-4ad6-81ce-5502b3f99235",
   "metadata": {},
   "outputs": [],
   "source": [
    "X_train, X_test, y_train, y_test = train_test_split(\n",
    "    df[data],\n",
    "    df[target],\n",
    "    test_size=0.2,\n",
    "    random_state=42\n",
    ")"
   ]
  },
  {
   "cell_type": "code",
   "execution_count": 334,
   "id": "90618579-7662-4e6b-b006-aab96049b020",
   "metadata": {},
   "outputs": [
    {
     "name": "stdout",
     "output_type": "stream",
     "text": [
      "----Shape 확인----\n",
      "X_train: (8000, 8)\n",
      "y_train: (8000,)\n",
      "X_test: (2000, 8)\n",
      "y_test (2000,)\n"
     ]
    }
   ],
   "source": [
    "## shape 확인\n",
    "print('----Shape 확인----')\n",
    "print('X_train:', X_train.shape)\n",
    "print('y_train:', y_train.shape)\n",
    "print('X_test:', X_test.shape)\n",
    "print('y_test', y_test.shape)"
   ]
  },
  {
   "cell_type": "code",
   "execution_count": 335,
   "id": "e3b32738-1ebc-41e7-832a-5e74276ccedc",
   "metadata": {},
   "outputs": [
    {
     "name": "stdout",
     "output_type": "stream",
     "text": [
      "<class 'pandas.core.frame.DataFrame'>\n",
      "Int64Index: 8000 entries, 9255 to 7271\n",
      "Data columns (total 8 columns):\n",
      " #   Column                   Non-Null Count  Dtype  \n",
      "---  ------                   --------------  -----  \n",
      " 0   Air temperature [K]      8000 non-null   float64\n",
      " 1   Process temperature [K]  8000 non-null   float64\n",
      " 2   Rotational speed [rpm]   8000 non-null   int64  \n",
      " 3   Torque [Nm]              8000 non-null   float64\n",
      " 4   Tool wear [min]          8000 non-null   int64  \n",
      " 5   Type_H                   8000 non-null   uint8  \n",
      " 6   Type_L                   8000 non-null   uint8  \n",
      " 7   Type_M                   8000 non-null   uint8  \n",
      "dtypes: float64(3), int64(2), uint8(3)\n",
      "memory usage: 398.4 KB\n"
     ]
    }
   ],
   "source": [
    "X_train.info()"
   ]
  },
  {
   "cell_type": "code",
   "execution_count": 336,
   "id": "c1be4df4-b8fc-481f-9b36-789f733f0c99",
   "metadata": {},
   "outputs": [
    {
     "data": {
      "text/plain": [
       "[('LR', LogisticRegression()),\n",
       " ('NB', GaussianNB()),\n",
       " ('RF', RandomForestClassifier()),\n",
       " ('SVC', SVC()),\n",
       " ('Dtree', DecisionTreeClassifier()),\n",
       " ('XGB',\n",
       "  XGBClassifier(base_score=None, booster=None, colsample_bylevel=None,\n",
       "                colsample_bynode=None, colsample_bytree=None,\n",
       "                enable_categorical=False, gamma=None, gpu_id=None,\n",
       "                importance_type=None, interaction_constraints=None,\n",
       "                learning_rate=None, max_delta_step=None, max_depth=None,\n",
       "                min_child_weight=None, missing=nan, monotone_constraints=None,\n",
       "                n_estimators=100, n_jobs=None, num_parallel_tree=None,\n",
       "                predictor=None, random_state=None, reg_alpha=None,\n",
       "                reg_lambda=None, scale_pos_weight=None, subsample=None,\n",
       "                tree_method=None, validate_parameters=None, verbosity=None)),\n",
       " ('KNN', KNeighborsClassifier())]"
      ]
     },
     "execution_count": 336,
     "metadata": {},
     "output_type": "execute_result"
    }
   ],
   "source": [
    "model_list = []\n",
    "LR = LogisticRegression()\n",
    "NB = GaussianNB()\n",
    "RF = RandomForestClassifier()\n",
    "SVC = SVC()\n",
    "Dtree = DecisionTreeClassifier()\n",
    "XGB = XGBClassifier()\n",
    "KNN = KNeighborsClassifier()\n",
    "model_list.append((\"LR\",LR))\n",
    "model_list.append((\"NB\",NB))\n",
    "model_list.append((\"RF\",RF))\n",
    "model_list.append((\"SVC\",SVC))\n",
    "model_list.append((\"Dtree\",Dtree))\n",
    "model_list.append((\"XGB\",XGB))\n",
    "model_list.append((\"KNN\",KNN))\n",
    "model_list"
   ]
  },
  {
   "cell_type": "code",
   "execution_count": 337,
   "id": "1988fbaa-d679-47eb-8964-3abdec527f29",
   "metadata": {},
   "outputs": [
    {
     "data": {
      "text/plain": [
       "SVC()"
      ]
     },
     "execution_count": 337,
     "metadata": {},
     "output_type": "execute_result"
    }
   ],
   "source": [
    "svc"
   ]
  },
  {
   "cell_type": "code",
   "execution_count": 338,
   "id": "38548bef-7c6b-4a27-83a8-2b48ae0d07ac",
   "metadata": {},
   "outputs": [],
   "source": [
    "def print_cv(model, X_train, y_train, k):\n",
    "    scores = cross_val_score(model, X_train, y_train, cv = k)\n",
    "    print(i, k, '----교차검증시작----')\n",
    "    print('결과:', scores)\n",
    "    mean_scores = np.mean(scores)\n",
    "    print('평균:', mean_scores)\n",
    "    return scores, mean_scores \n",
    "# 함수의 결과로 여러개의 데이터를 return\n",
    "# 튜플로 묶어서 반환하게 된다.(scores, mean_scores)"
   ]
  },
  {
   "cell_type": "code",
   "execution_count": 339,
   "id": "8e52390b-31ee-4e37-adff-5636fbba2169",
   "metadata": {},
   "outputs": [
    {
     "data": {
      "text/plain": [
       "array([0, 0, 0, ..., 0, 0, 0], dtype=int64)"
      ]
     },
     "execution_count": 339,
     "metadata": {},
     "output_type": "execute_result"
    }
   ],
   "source": [
    "cross_val_predict(rf, X_train, y_train)"
   ]
  },
  {
   "cell_type": "code",
   "execution_count": 340,
   "id": "7621d7a7-3c31-42fa-abe0-d783e6181b6c",
   "metadata": {},
   "outputs": [
    {
     "data": {
      "text/plain": [
       "array([0.98625, 0.98875, 0.97875, 0.98125, 0.98375, 0.98   , 0.98125,\n",
       "       0.97875, 0.97625, 0.985  ])"
      ]
     },
     "execution_count": 340,
     "metadata": {},
     "output_type": "execute_result"
    }
   ],
   "source": [
    "cross_val_score(rf, X_train, y_train, cv = 10)"
   ]
  },
  {
   "cell_type": "code",
   "execution_count": 341,
   "id": "832a4a20-fb3d-4862-bf51-e9b14c5bd624",
   "metadata": {},
   "outputs": [
    {
     "name": "stdout",
     "output_type": "stream",
     "text": [
      "RF 5 ----교차검증시작----\n",
      "결과: [0.973125 0.96375  0.971875 0.969375 0.97    ]\n",
      "평균: 0.9696250000000001\n"
     ]
    },
    {
     "data": {
      "text/plain": [
       "(array([0.973125, 0.96375 , 0.971875, 0.969375, 0.97    ]), 0.9696250000000001)"
      ]
     },
     "execution_count": 341,
     "metadata": {},
     "output_type": "execute_result"
    }
   ],
   "source": [
    "print_cv(knn, X_train, y_train, 5)"
   ]
  },
  {
   "cell_type": "code",
   "execution_count": 342,
   "id": "5cb936d0-fe96-495f-b97e-e3ca62470a2d",
   "metadata": {},
   "outputs": [
    {
     "name": "stdout",
     "output_type": "stream",
     "text": [
      "LR 5 ----교차검증시작----\n",
      "결과: [0.973125 0.966875 0.966875 0.97     0.968125]\n",
      "평균: 0.969\n",
      "LR 10 ----교차검증시작----\n",
      "결과: [0.97125 0.97875 0.965   0.9675  0.965   0.96875 0.97125 0.96875 0.96375\n",
      " 0.97   ]\n",
      "평균: 0.969\n",
      "\n",
      "NB 5 ----교차검증시작----\n",
      "결과: [0.96     0.955625 0.961875 0.95625  0.95625 ]\n",
      "평균: 0.958\n",
      "NB 10 ----교차검증시작----\n",
      "결과: [0.9575  0.96375 0.95375 0.955   0.96125 0.95875 0.95625 0.95625 0.955\n",
      " 0.9575 ]\n",
      "평균: 0.9574999999999999\n",
      "\n",
      "RF 5 ----교차검증시작----\n",
      "결과: [0.985    0.980625 0.981875 0.98125  0.979375]\n",
      "평균: 0.981625\n",
      "RF 10 ----교차검증시작----\n",
      "결과: [0.9875  0.9875  0.97875 0.9825  0.98375 0.98125 0.98125 0.98    0.975\n",
      " 0.98375]\n",
      "평균: 0.9821250000000001\n",
      "\n",
      "SVC 5 ----교차검증시작----\n",
      "결과: [0.965625 0.965625 0.965    0.965    0.965   ]\n",
      "평균: 0.9652499999999999\n",
      "SVC 10 ----교차검증시작----\n",
      "결과: [0.96625 0.96625 0.965   0.965   0.965   0.965   0.965   0.965   0.965\n",
      " 0.965  ]\n",
      "평균: 0.9652499999999999\n",
      "\n",
      "Dtree 5 ----교차검증시작----\n",
      "결과: [0.986875 0.976875 0.98     0.98     0.975625]\n",
      "평균: 0.979875\n",
      "Dtree 10 ----교차검증시작----\n",
      "결과: [0.97625 0.98375 0.98    0.9775  0.985   0.9775  0.9825  0.97875 0.97\n",
      " 0.96875]\n",
      "평균: 0.9780000000000001\n",
      "\n",
      "XGB 5 ----교차검증시작----\n",
      "결과: [nan nan nan nan nan]\n",
      "평균: nan\n",
      "XGB 10 ----교차검증시작----\n",
      "결과: [nan nan nan nan nan nan nan nan nan nan]\n",
      "평균: nan\n",
      "\n",
      "KNN 5 ----교차검증시작----\n",
      "결과: [0.973125 0.96375  0.971875 0.969375 0.97    ]\n",
      "평균: 0.9696250000000001\n",
      "KNN 10 ----교차검증시작----\n",
      "결과: [0.97    0.9725  0.96375 0.9625  0.96875 0.97375 0.97125 0.9675  0.96625\n",
      " 0.97625]\n",
      "평균: 0.9692500000000001\n",
      "\n",
      "**********************************************************************************************************************\n",
      "\n",
      "\n",
      "모델명: [('LR', LogisticRegression()), ('NB', GaussianNB()), ('RF', RandomForestClassifier()), ('SVC', SVC()), ('Dtree', DecisionTreeClassifier()), ('XGB', XGBClassifier(base_score=None, booster=None, colsample_bylevel=None,\n",
      "              colsample_bynode=None, colsample_bytree=None,\n",
      "              enable_categorical=False, gamma=None, gpu_id=None,\n",
      "              importance_type=None, interaction_constraints=None,\n",
      "              learning_rate=None, max_delta_step=None, max_depth=None,\n",
      "              min_child_weight=None, missing=nan, monotone_constraints=None,\n",
      "              n_estimators=100, n_jobs=None, num_parallel_tree=None,\n",
      "              predictor=None, random_state=None, reg_alpha=None,\n",
      "              reg_lambda=None, scale_pos_weight=None, subsample=None,\n",
      "              tree_method=None, validate_parameters=None, verbosity=None)), ('KNN', KNeighborsClassifier())] k: [5, 10]\n",
      "\n",
      "\n",
      "전체 모델의 교차 검증 결과 리스트:\n",
      "[array([0.973125, 0.966875, 0.966875, 0.97    , 0.968125]), array([0.97125, 0.97875, 0.965  , 0.9675 , 0.965  , 0.96875, 0.97125,\n",
      "       0.96875, 0.96375, 0.97   ]), array([0.96    , 0.955625, 0.961875, 0.95625 , 0.95625 ]), array([0.9575 , 0.96375, 0.95375, 0.955  , 0.96125, 0.95875, 0.95625,\n",
      "       0.95625, 0.955  , 0.9575 ]), array([0.985   , 0.980625, 0.981875, 0.98125 , 0.979375]), array([0.9875 , 0.9875 , 0.97875, 0.9825 , 0.98375, 0.98125, 0.98125,\n",
      "       0.98   , 0.975  , 0.98375]), array([0.965625, 0.965625, 0.965   , 0.965   , 0.965   ]), array([0.96625, 0.96625, 0.965  , 0.965  , 0.965  , 0.965  , 0.965  ,\n",
      "       0.965  , 0.965  , 0.965  ]), array([0.986875, 0.976875, 0.98    , 0.98    , 0.975625]), array([0.97625, 0.98375, 0.98   , 0.9775 , 0.985  , 0.9775 , 0.9825 ,\n",
      "       0.97875, 0.97   , 0.96875]), array([nan, nan, nan, nan, nan]), array([nan, nan, nan, nan, nan, nan, nan, nan, nan, nan]), array([0.973125, 0.96375 , 0.971875, 0.969375, 0.97    ]), array([0.97   , 0.9725 , 0.96375, 0.9625 , 0.96875, 0.97375, 0.97125,\n",
      "       0.9675 , 0.96625, 0.97625])]\n",
      "전체 모델의 교차 검증 결과 평균:\n",
      "[0.969, 0.969, 0.958, 0.9574999999999999, 0.981625, 0.9821250000000001, 0.9652499999999999, 0.9652499999999999, 0.979875, 0.9780000000000001, nan, nan, 0.9696250000000001, 0.9692500000000001]\n",
      "\n",
      "최고 교차 검증 평균>>  0.9821250000000001\n",
      "최고 교차 검증 인덱스>>  5\n",
      "최고 교차 검증 모델링>>  RF k = 10\n"
     ]
    }
   ],
   "source": [
    "k_number=[5, 10]\n",
    "sc_list = []\n",
    "mean_sc_list = []\n",
    "for i, model in model_list:\n",
    "    for k in k_number:\n",
    "        sc, mean_sc = print_cv(model, X_train, y_train, k)\n",
    "        sc_list.append(sc)\n",
    "        mean_sc_list.append(mean_sc)\n",
    "    print()\n",
    "print('**********************************************************************************************************************')\n",
    "print()\n",
    "print()\n",
    "print('모델명:', model_list,'k:', k_number)\n",
    "print()\n",
    "print()\n",
    "print('전체 모델의 교차 검증 결과 리스트:')\n",
    "print(sc_list)\n",
    "print('전체 모델의 교차 검증 결과 평균:')\n",
    "print(mean_sc_list)\n",
    "print()\n",
    "# 최대 평균값 ==\n",
    "mean_sc_list_nan = []\n",
    "for i in mean_sc_list:\n",
    "    if np.isnan(i):\n",
    "        pass\n",
    "    else:\n",
    "        mean_sc_list_nan.append(i)\n",
    "max_value = np.max(mean_sc_list_nan)\n",
    "# 최대 평균값 인덱스 ==\n",
    "\n",
    "\n",
    "max_index = np.nanargmax(mean_sc_list)\n",
    "# 최대 평균값 모델명 ==\n",
    "max_model = model_list[max_index//2][0]\n",
    "if max_index%2 ==0:\n",
    "    k_max = 5\n",
    "else:\n",
    "    k_max = 10\n",
    "\n",
    "print('최고 교차 검증 평균>> ', max_value)\n",
    "print('최고 교차 검증 인덱스>> ', max_index)\n",
    "print('최고 교차 검증 모델링>> ', max_model, 'k =', k_max)\n",
    "\n"
   ]
  },
  {
   "cell_type": "code",
   "execution_count": 343,
   "id": "e342b180-258b-4151-90a9-b5bceeb3ad86",
   "metadata": {},
   "outputs": [
    {
     "data": {
      "text/plain": [
       "[0.969,\n",
       " 0.969,\n",
       " 0.958,\n",
       " 0.9574999999999999,\n",
       " 0.981625,\n",
       " 0.9821250000000001,\n",
       " 0.9652499999999999,\n",
       " 0.9652499999999999,\n",
       " 0.979875,\n",
       " 0.9780000000000001,\n",
       " nan,\n",
       " nan,\n",
       " 0.9696250000000001,\n",
       " 0.9692500000000001]"
      ]
     },
     "execution_count": 343,
     "metadata": {},
     "output_type": "execute_result"
    }
   ],
   "source": [
    "mean_sc_list"
   ]
  },
  {
   "cell_type": "code",
   "execution_count": 344,
   "id": "9dbefa91-4515-4ff9-acb9-7439daa981a4",
   "metadata": {},
   "outputs": [],
   "source": [
    "def grid_search(model, params, k):\n",
    "    gs_model = GridSearchCV(model, params, cv=k)\n",
    "    ## gs_model는 최적의 파라메터가 적요된 모델의 객체!\n",
    "    gs_model.fit(X_train, y_train)\n",
    "    print('best_estimator:',gs_model.best_estimator_) ##최적의 파라메터가 적용된 모델 객체\n",
    "    print('best_score:',gs_model.best_score_) ##최적의 파라메터가 적용된 모델로 학습한 정확도 결과(acc)\n",
    "    print('best_params:',gs_model.best_params_) ##최적의 파라메터\n",
    "    print('gs_model:',gs_model) #grid_search 객체"
   ]
  },
  {
   "cell_type": "code",
   "execution_count": 345,
   "id": "790947ff-a57a-4c97-9fa9-7a4f4eb75117",
   "metadata": {},
   "outputs": [
    {
     "name": "stdout",
     "output_type": "stream",
     "text": [
      "----clf model: LogisticRegression() ----\n",
      "Invalid parameter criterion for estimator LogisticRegression(). Check the list of available parameters with `estimator.get_params().keys()`.\n",
      "\n",
      "----clf model: GaussianNB() ----\n",
      "Invalid parameter criterion for estimator GaussianNB(). Check the list of available parameters with `estimator.get_params().keys()`.\n",
      "\n",
      "----clf model: RandomForestClassifier() ----\n",
      "best_estimator: RandomForestClassifier(criterion='entropy', max_depth=10, random_state=3)\n",
      "best_score: 0.9811249999999999\n",
      "best_params: {'criterion': 'entropy', 'max_depth': 10, 'random_state': 3}\n",
      "gs_model: GridSearchCV(cv=10, estimator=RandomForestClassifier(),\n",
      "             param_grid={'criterion': ['gini', 'entropy'],\n",
      "                         'max_depth': [3, 5, 7, 10],\n",
      "                         'random_state': [1, 3, 5]})\n",
      "\n",
      "----clf model: SVC() ----\n",
      "Invalid parameter criterion for estimator SVC(). Check the list of available parameters with `estimator.get_params().keys()`.\n",
      "\n",
      "----clf model: DecisionTreeClassifier() ----\n",
      "best_estimator: DecisionTreeClassifier(criterion='entropy', max_depth=7, random_state=5)\n",
      "best_score: 0.983625\n",
      "best_params: {'criterion': 'entropy', 'max_depth': 7, 'random_state': 5}\n",
      "gs_model: GridSearchCV(cv=10, estimator=DecisionTreeClassifier(),\n",
      "             param_grid={'criterion': ['gini', 'entropy'],\n",
      "                         'max_depth': [3, 5, 7, 10],\n",
      "                         'random_state': [1, 3, 5]})\n",
      "\n",
      "----clf model: XGBClassifier(base_score=None, booster=None, colsample_bylevel=None,\n",
      "              colsample_bynode=None, colsample_bytree=None,\n",
      "              enable_categorical=False, gamma=None, gpu_id=None,\n",
      "              importance_type=None, interaction_constraints=None,\n",
      "              learning_rate=None, max_delta_step=None, max_depth=None,\n",
      "              min_child_weight=None, missing=nan, monotone_constraints=None,\n",
      "              n_estimators=100, n_jobs=None, num_parallel_tree=None,\n",
      "              predictor=None, random_state=None, reg_alpha=None,\n",
      "              reg_lambda=None, scale_pos_weight=None, subsample=None,\n",
      "              tree_method=None, validate_parameters=None, verbosity=None) ----\n",
      "feature_names must be string, and may not contain [, ] or <\n",
      "\n",
      "----clf model: KNeighborsClassifier() ----\n",
      "Invalid parameter criterion for estimator KNeighborsClassifier(). Check the list of available parameters with `estimator.get_params().keys()`.\n",
      "\n"
     ]
    }
   ],
   "source": [
    "params = { #하이퍼파라메터 설정으로 가질 수 있는 모든 경우의 수=> 4*3*2: 24\n",
    "    'max_depth':[3, 5, 7, 10], #key:하이퍼파라메터명, values는 list\n",
    "    'random_state': [1,3,5],\n",
    "    'criterion': ['gini','entropy'] #혼란스러운 정도(분류의 정도)를 계산하는 기준\n",
    "}\n",
    "\n",
    "for i, model in model_list:\n",
    "    try:\n",
    "        print('----clf model:', model, '----')\n",
    "        grid_search(model, params, 10)\n",
    "        print()\n",
    "    except Exception as e:\n",
    "        print(e)\n",
    "        print()"
   ]
  },
  {
   "cell_type": "code",
   "execution_count": 346,
   "id": "837f566d-9324-40fa-9cef-f988e0bd8e13",
   "metadata": {},
   "outputs": [
    {
     "data": {
      "text/plain": [
       "RandomForestClassifier(max_depth=3, random_state=3)"
      ]
     },
     "execution_count": 346,
     "metadata": {},
     "output_type": "execute_result"
    }
   ],
   "source": [
    "## 최적의 하이퍼 파라메터로 모델 객체 생성\n",
    "## fit()\n",
    "dt_gs = DecisionTreeClassifier(criterion = 'gini', max_depth=3, random_state=1)\n",
    "dt_gs.fit(X_train, y_train)\n",
    "rf_gs = RandomForestClassifier(criterion = 'gini', max_depth=3, random_state=3)\n",
    "rf_gs.fit(X_train, y_train)"
   ]
  },
  {
   "cell_type": "code",
   "execution_count": 347,
   "id": "308e2d7f-5cfa-4cc5-952a-09da66bdb3a0",
   "metadata": {},
   "outputs": [
    {
     "name": "stdout",
     "output_type": "stream",
     "text": [
      "accuracy: 0.975\n",
      "confusion_matrix:\n",
      " [[1935    4]\n",
      " [  46   15]]\n",
      "classification_report:\n",
      "               precision    recall  f1-score   support\n",
      "\n",
      "           0       0.98      1.00      0.99      1939\n",
      "           1       0.79      0.25      0.38        61\n",
      "\n",
      "    accuracy                           0.97      2000\n",
      "   macro avg       0.88      0.62      0.68      2000\n",
      "weighted avg       0.97      0.97      0.97      2000\n",
      "\n"
     ]
    }
   ],
   "source": [
    "## 테스트 데이터로 검증해보자!\n",
    "def test_validation(model, X_test, y_test):\n",
    "    predict_result = model.predict(X_test)\n",
    "    acc = accuracy_score(y_test, predict_result)\n",
    "    print(\"accuracy:\", acc)\n",
    "    cf = confusion_matrix(y_test, predict_result)\n",
    "    ##실제(c) --> 예측(c, sg), 실제(sg)==> 예측(sg,c),\n",
    "    # 이진분류(binary classification)인 경우에는\n",
    "    # 예측할 수 있는 경우의 수는 4가지!\n",
    "    # 4가지를 표형태로 정리해주는 것이 confusion matrix!\n",
    "    # 첫반째 행/열은 c, 두번째 행/열은 sg, abc순으로 행/열이 결정\n",
    "    print('confusion_matrix:\\n', cf)\n",
    "    ## confusion matrix는 binary classfication 인 경우에는 보기가 괜찮으나, \n",
    "    ## multi class classification인 경우에는 보기가 힘들어서\n",
    "    ## classification_report 를 사용하는게 보기 편하다\n",
    "    c_report = classification_report(y_test, predict_result)\n",
    "    print('classification_report:\\n', c_report)\n",
    "\n",
    "test_validation(dt_gs, X_test, y_test)"
   ]
  },
  {
   "cell_type": "code",
   "execution_count": null,
   "id": "f044690a-1710-4f7c-9de4-4e05b6113b7e",
   "metadata": {},
   "outputs": [],
   "source": [
    "print(roc_auc_score(y_test, predict_result_2)) "
   ]
  }
 ],
 "metadata": {
  "kernelspec": {
   "display_name": "Python 3 (ipykernel)",
   "language": "python",
   "name": "python3"
  },
  "language_info": {
   "codemirror_mode": {
    "name": "ipython",
    "version": 3
   },
   "file_extension": ".py",
   "mimetype": "text/x-python",
   "name": "python",
   "nbconvert_exporter": "python",
   "pygments_lexer": "ipython3",
   "version": "3.7.11"
  }
 },
 "nbformat": 4,
 "nbformat_minor": 5
}
